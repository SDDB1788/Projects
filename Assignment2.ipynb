{
 "cells": [
  {
   "cell_type": "markdown",
   "metadata": {},
   "source": [
    "# Question1"
   ]
  },
  {
   "cell_type": "raw",
   "metadata": {},
   "source": [
    "To scrape data for “Data Analyst” Job position in “Bangalore” location.( scrape first 10 jobs data)\n",
    "Scrap:-\n",
    "1. Job title\n",
    "2. job-location\n",
    "3.company_name\n",
    "4.experience_required\n"
   ]
  },
  {
   "cell_type": "code",
   "execution_count": 131,
   "metadata": {},
   "outputs": [],
   "source": [
    "import selenium\n",
    "import pandas as pd\n",
    "from selenium import webdriver\n",
    "import time"
   ]
  },
  {
   "cell_type": "code",
   "execution_count": 132,
   "metadata": {},
   "outputs": [],
   "source": [
    "driver= webdriver.Chrome()"
   ]
  },
  {
   "cell_type": "code",
   "execution_count": 107,
   "metadata": {},
   "outputs": [],
   "source": [
    "driver.get('https://www.naukri.com/')"
   ]
  },
  {
   "cell_type": "code",
   "execution_count": 108,
   "metadata": {},
   "outputs": [],
   "source": [
    "search_job=driver.find_element_by_xpath(\"//input[@id='qsb-keyword-sugg']\")\n",
    "search_job.send_keys('Data Analyst')\n",
    "search_loc=driver.find_element_by_xpath(\"//input[@id='qsb-location-sugg']\")\n",
    "search_loc.send_keys('Bangalore')\n"
   ]
  },
  {
   "cell_type": "code",
   "execution_count": 109,
   "metadata": {},
   "outputs": [],
   "source": [
    "search_btn=driver.find_element_by_xpath(\"//div[@class='search-btn']/button\")\n",
    "search_btn.click()"
   ]
  },
  {
   "cell_type": "code",
   "execution_count": 113,
   "metadata": {},
   "outputs": [],
   "source": [
    "Job_title=[]\n",
    "location=[]\n",
    "company=[]\n",
    "experience=[]\n",
    "for j in driver.find_elements_by_xpath(\"//a[@class='title fw500 ellipsis']\"):\n",
    "    Job_title.append(j.text)\n",
    "for k in driver.find_elements_by_xpath(\"//li[@class='fleft grey-text br2 placeHolderLi location']/span[1]\"):\n",
    "    location.append(k.text)\n",
    "for l in driver.find_elements_by_xpath(\"//a[@class='subTitle ellipsis fleft']\"):\n",
    "    company.append(l.text)\n",
    "for m in driver.find_elements_by_xpath(\"//li[@class='fleft grey-text br2 placeHolderLi experience']/span[1]\"):\n",
    "    experience.append(m.text)"
   ]
  },
  {
   "cell_type": "code",
   "execution_count": 114,
   "metadata": {},
   "outputs": [
    {
     "data": {
      "text/html": [
       "<div>\n",
       "<style scoped>\n",
       "    .dataframe tbody tr th:only-of-type {\n",
       "        vertical-align: middle;\n",
       "    }\n",
       "\n",
       "    .dataframe tbody tr th {\n",
       "        vertical-align: top;\n",
       "    }\n",
       "\n",
       "    .dataframe thead th {\n",
       "        text-align: right;\n",
       "    }\n",
       "</style>\n",
       "<table border=\"1\" class=\"dataframe\">\n",
       "  <thead>\n",
       "    <tr style=\"text-align: right;\">\n",
       "      <th></th>\n",
       "      <th>Job</th>\n",
       "      <th>Location</th>\n",
       "      <th>Company</th>\n",
       "      <th>Yrs_of_experience</th>\n",
       "    </tr>\n",
       "  </thead>\n",
       "  <tbody>\n",
       "    <tr>\n",
       "      <th>1</th>\n",
       "      <td>Data Analyst Analyzing</td>\n",
       "      <td>Bangalore/Bengaluru</td>\n",
       "      <td>Cistup Indian Institute of Science</td>\n",
       "      <td>2-5 Yrs</td>\n",
       "    </tr>\n",
       "    <tr>\n",
       "      <th>2</th>\n",
       "      <td>Senior Analyst-Data Visualization</td>\n",
       "      <td>Bangalore/Bengaluru</td>\n",
       "      <td>Accenture Solutions Pvt Ltd</td>\n",
       "      <td>5-8 Yrs</td>\n",
       "    </tr>\n",
       "    <tr>\n",
       "      <th>3</th>\n",
       "      <td>Market Unit - Data Business Analyst (11)</td>\n",
       "      <td>Bangalore/Bengaluru</td>\n",
       "      <td>Accenture Solutions Pvt Ltd</td>\n",
       "      <td>1-2 Yrs</td>\n",
       "    </tr>\n",
       "    <tr>\n",
       "      <th>4</th>\n",
       "      <td>Data Analyst</td>\n",
       "      <td>Bangalore/Bengaluru</td>\n",
       "      <td>Myntra Designs Pvt. Ltd.</td>\n",
       "      <td>3-6 Yrs</td>\n",
       "    </tr>\n",
       "    <tr>\n",
       "      <th>5</th>\n",
       "      <td>Analyst-Finance Data Maintenance</td>\n",
       "      <td>Bangalore/Bengaluru</td>\n",
       "      <td>Accenture Solutions Pvt Ltd</td>\n",
       "      <td>3-5 Yrs</td>\n",
       "    </tr>\n",
       "    <tr>\n",
       "      <th>6</th>\n",
       "      <td>Senior Analyst-Data Management</td>\n",
       "      <td>Bangalore/Bengaluru</td>\n",
       "      <td>Accenture Solutions Pvt Ltd</td>\n",
       "      <td>5-8 Yrs</td>\n",
       "    </tr>\n",
       "    <tr>\n",
       "      <th>7</th>\n",
       "      <td>Analyst-Data Management</td>\n",
       "      <td>Bangalore/Bengaluru</td>\n",
       "      <td>Accenture Solutions Pvt Ltd</td>\n",
       "      <td>3-5 Yrs</td>\n",
       "    </tr>\n",
       "    <tr>\n",
       "      <th>8</th>\n",
       "      <td>Senior Analyst-Data Management</td>\n",
       "      <td>Bangalore/Bengaluru</td>\n",
       "      <td>Accenture Solutions Pvt Ltd</td>\n",
       "      <td>5-8 Yrs</td>\n",
       "    </tr>\n",
       "    <tr>\n",
       "      <th>9</th>\n",
       "      <td>Senior Analyst-Data Visualization</td>\n",
       "      <td>Bangalore/Bengaluru</td>\n",
       "      <td>Accenture Solutions Pvt Ltd</td>\n",
       "      <td>5-8 Yrs</td>\n",
       "    </tr>\n",
       "    <tr>\n",
       "      <th>10</th>\n",
       "      <td>Senior Analyst-Finance Data Maintenance</td>\n",
       "      <td>Bangalore/Bengaluru</td>\n",
       "      <td>Accenture Solutions Pvt Ltd</td>\n",
       "      <td>5-8 Yrs</td>\n",
       "    </tr>\n",
       "  </tbody>\n",
       "</table>\n",
       "</div>"
      ],
      "text/plain": [
       "                                         Job             Location  \\\n",
       "1                     Data Analyst Analyzing  Bangalore/Bengaluru   \n",
       "2          Senior Analyst-Data Visualization  Bangalore/Bengaluru   \n",
       "3   Market Unit - Data Business Analyst (11)  Bangalore/Bengaluru   \n",
       "4                               Data Analyst  Bangalore/Bengaluru   \n",
       "5           Analyst-Finance Data Maintenance  Bangalore/Bengaluru   \n",
       "6             Senior Analyst-Data Management  Bangalore/Bengaluru   \n",
       "7                    Analyst-Data Management  Bangalore/Bengaluru   \n",
       "8             Senior Analyst-Data Management  Bangalore/Bengaluru   \n",
       "9          Senior Analyst-Data Visualization  Bangalore/Bengaluru   \n",
       "10   Senior Analyst-Finance Data Maintenance  Bangalore/Bengaluru   \n",
       "\n",
       "                               Company Yrs_of_experience  \n",
       "1   Cistup Indian Institute of Science           2-5 Yrs  \n",
       "2          Accenture Solutions Pvt Ltd           5-8 Yrs  \n",
       "3          Accenture Solutions Pvt Ltd           1-2 Yrs  \n",
       "4             Myntra Designs Pvt. Ltd.           3-6 Yrs  \n",
       "5          Accenture Solutions Pvt Ltd           3-5 Yrs  \n",
       "6          Accenture Solutions Pvt Ltd           5-8 Yrs  \n",
       "7          Accenture Solutions Pvt Ltd           3-5 Yrs  \n",
       "8          Accenture Solutions Pvt Ltd           5-8 Yrs  \n",
       "9          Accenture Solutions Pvt Ltd           5-8 Yrs  \n",
       "10         Accenture Solutions Pvt Ltd           5-8 Yrs  "
      ]
     },
     "execution_count": 114,
     "metadata": {},
     "output_type": "execute_result"
    }
   ],
   "source": [
    "job=pd.DataFrame({})\n",
    "job['Job']=Job_title\n",
    "job['Location']=location\n",
    "job['Company']=company\n",
    "job['Yrs_of_experience']=experience\n",
    "\n",
    "job[1:11]"
   ]
  }
 ],
 "metadata": {
  "kernelspec": {
   "display_name": "Python 3",
   "language": "python",
   "name": "python3"
  },
  "language_info": {
   "codemirror_mode": {
    "name": "ipython",
    "version": 3
   },
   "file_extension": ".py",
   "mimetype": "text/x-python",
   "name": "python",
   "nbconvert_exporter": "python",
   "pygments_lexer": "ipython3",
   "version": "3.8.5"
  }
 },
 "nbformat": 4,
 "nbformat_minor": 4
}
