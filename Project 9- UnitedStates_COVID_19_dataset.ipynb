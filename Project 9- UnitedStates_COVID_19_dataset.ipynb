{
 "cells": [
  {
   "cell_type": "code",
   "execution_count": 193,
   "metadata": {},
   "outputs": [],
   "source": [
    "#Problem statement - To check the recovered rate"
   ]
  },
  {
   "cell_type": "code",
   "execution_count": 194,
   "metadata": {},
   "outputs": [],
   "source": [
    "import numpy as np\n",
    "import pandas as pd\n",
    "import seaborn as sns\n",
    "import matplotlib.pyplot as plt\n",
    "import warnings\n",
    "warnings.simplefilter('ignore')\n",
    "from sklearn.preprocessing import LabelEncoder"
   ]
  },
  {
   "cell_type": "code",
   "execution_count": null,
   "metadata": {},
   "outputs": [],
   "source": [
    "#importing libraries"
   ]
  },
  {
   "cell_type": "code",
   "execution_count": 195,
   "metadata": {},
   "outputs": [
    {
     "data": {
      "text/html": [
       "<div>\n",
       "<style scoped>\n",
       "    .dataframe tbody tr th:only-of-type {\n",
       "        vertical-align: middle;\n",
       "    }\n",
       "\n",
       "    .dataframe tbody tr th {\n",
       "        vertical-align: top;\n",
       "    }\n",
       "\n",
       "    .dataframe thead th {\n",
       "        text-align: right;\n",
       "    }\n",
       "</style>\n",
       "<table border=\"1\" class=\"dataframe\">\n",
       "  <thead>\n",
       "    <tr style=\"text-align: right;\">\n",
       "      <th></th>\n",
       "      <th>Province_State</th>\n",
       "      <th>Country_Region</th>\n",
       "      <th>Last_Update</th>\n",
       "      <th>Lat</th>\n",
       "      <th>Long_</th>\n",
       "      <th>Confirmed</th>\n",
       "      <th>Deaths</th>\n",
       "      <th>Recovered</th>\n",
       "      <th>Active</th>\n",
       "      <th>FIPS</th>\n",
       "      <th>Incident_Rate</th>\n",
       "      <th>People_Tested</th>\n",
       "      <th>People_Hospitalized</th>\n",
       "      <th>Mortality_Rate</th>\n",
       "      <th>UID</th>\n",
       "      <th>ISO3</th>\n",
       "      <th>Testing_Rate</th>\n",
       "      <th>Hospitalization_Rate</th>\n",
       "    </tr>\n",
       "  </thead>\n",
       "  <tbody>\n",
       "    <tr>\n",
       "      <th>0</th>\n",
       "      <td>Alabama</td>\n",
       "      <td>US</td>\n",
       "      <td>2020-05-21 02:32:54</td>\n",
       "      <td>32.3182</td>\n",
       "      <td>-86.9023</td>\n",
       "      <td>13052</td>\n",
       "      <td>522</td>\n",
       "      <td>NaN</td>\n",
       "      <td>12530.0</td>\n",
       "      <td>1</td>\n",
       "      <td>266.194321</td>\n",
       "      <td>164450.0</td>\n",
       "      <td>1493.0</td>\n",
       "      <td>3.999387</td>\n",
       "      <td>84000001</td>\n",
       "      <td>USA</td>\n",
       "      <td>3353.942386</td>\n",
       "      <td>11.438860</td>\n",
       "    </tr>\n",
       "    <tr>\n",
       "      <th>1</th>\n",
       "      <td>Alaska</td>\n",
       "      <td>US</td>\n",
       "      <td>2020-05-21 02:32:54</td>\n",
       "      <td>61.3707</td>\n",
       "      <td>-152.4044</td>\n",
       "      <td>401</td>\n",
       "      <td>10</td>\n",
       "      <td>352.0</td>\n",
       "      <td>39.0</td>\n",
       "      <td>2</td>\n",
       "      <td>54.815493</td>\n",
       "      <td>37045.0</td>\n",
       "      <td>NaN</td>\n",
       "      <td>2.493766</td>\n",
       "      <td>84000002</td>\n",
       "      <td>USA</td>\n",
       "      <td>5063.940017</td>\n",
       "      <td>NaN</td>\n",
       "    </tr>\n",
       "    <tr>\n",
       "      <th>2</th>\n",
       "      <td>American Samoa</td>\n",
       "      <td>US</td>\n",
       "      <td>2020-05-21 02:32:54</td>\n",
       "      <td>-14.2710</td>\n",
       "      <td>-170.1320</td>\n",
       "      <td>0</td>\n",
       "      <td>0</td>\n",
       "      <td>NaN</td>\n",
       "      <td>0.0</td>\n",
       "      <td>60</td>\n",
       "      <td>0.000000</td>\n",
       "      <td>124.0</td>\n",
       "      <td>NaN</td>\n",
       "      <td>NaN</td>\n",
       "      <td>16</td>\n",
       "      <td>ASM</td>\n",
       "      <td>222.857246</td>\n",
       "      <td>NaN</td>\n",
       "    </tr>\n",
       "    <tr>\n",
       "      <th>3</th>\n",
       "      <td>Arizona</td>\n",
       "      <td>US</td>\n",
       "      <td>2020-05-21 02:32:54</td>\n",
       "      <td>33.7298</td>\n",
       "      <td>-111.4312</td>\n",
       "      <td>14906</td>\n",
       "      <td>747</td>\n",
       "      <td>3773.0</td>\n",
       "      <td>10386.0</td>\n",
       "      <td>4</td>\n",
       "      <td>204.788838</td>\n",
       "      <td>165435.0</td>\n",
       "      <td>1792.0</td>\n",
       "      <td>5.011405</td>\n",
       "      <td>84000004</td>\n",
       "      <td>USA</td>\n",
       "      <td>2272.859351</td>\n",
       "      <td>12.022005</td>\n",
       "    </tr>\n",
       "    <tr>\n",
       "      <th>4</th>\n",
       "      <td>Arkansas</td>\n",
       "      <td>US</td>\n",
       "      <td>2020-05-21 02:32:54</td>\n",
       "      <td>34.9697</td>\n",
       "      <td>-92.3731</td>\n",
       "      <td>5003</td>\n",
       "      <td>107</td>\n",
       "      <td>3852.0</td>\n",
       "      <td>1044.0</td>\n",
       "      <td>5</td>\n",
       "      <td>165.782801</td>\n",
       "      <td>96258.0</td>\n",
       "      <td>535.0</td>\n",
       "      <td>2.138717</td>\n",
       "      <td>84000005</td>\n",
       "      <td>USA</td>\n",
       "      <td>3189.670370</td>\n",
       "      <td>10.693584</td>\n",
       "    </tr>\n",
       "  </tbody>\n",
       "</table>\n",
       "</div>"
      ],
      "text/plain": [
       "   Province_State Country_Region          Last_Update      Lat     Long_  \\\n",
       "0         Alabama             US  2020-05-21 02:32:54  32.3182  -86.9023   \n",
       "1          Alaska             US  2020-05-21 02:32:54  61.3707 -152.4044   \n",
       "2  American Samoa             US  2020-05-21 02:32:54 -14.2710 -170.1320   \n",
       "3         Arizona             US  2020-05-21 02:32:54  33.7298 -111.4312   \n",
       "4        Arkansas             US  2020-05-21 02:32:54  34.9697  -92.3731   \n",
       "\n",
       "   Confirmed  Deaths  Recovered   Active  FIPS  Incident_Rate  People_Tested  \\\n",
       "0      13052     522        NaN  12530.0     1     266.194321       164450.0   \n",
       "1        401      10      352.0     39.0     2      54.815493        37045.0   \n",
       "2          0       0        NaN      0.0    60       0.000000          124.0   \n",
       "3      14906     747     3773.0  10386.0     4     204.788838       165435.0   \n",
       "4       5003     107     3852.0   1044.0     5     165.782801        96258.0   \n",
       "\n",
       "   People_Hospitalized  Mortality_Rate       UID ISO3  Testing_Rate  \\\n",
       "0               1493.0        3.999387  84000001  USA   3353.942386   \n",
       "1                  NaN        2.493766  84000002  USA   5063.940017   \n",
       "2                  NaN             NaN        16  ASM    222.857246   \n",
       "3               1792.0        5.011405  84000004  USA   2272.859351   \n",
       "4                535.0        2.138717  84000005  USA   3189.670370   \n",
       "\n",
       "   Hospitalization_Rate  \n",
       "0             11.438860  \n",
       "1                   NaN  \n",
       "2                   NaN  \n",
       "3             12.022005  \n",
       "4             10.693584  "
      ]
     },
     "execution_count": 195,
     "metadata": {},
     "output_type": "execute_result"
    }
   ],
   "source": [
    "df=pd.read_csv('COVID19Dataset')\n",
    "df.head()"
   ]
  },
  {
   "cell_type": "code",
   "execution_count": null,
   "metadata": {},
   "outputs": [],
   "source": [
    "# loading the dataset"
   ]
  },
  {
   "cell_type": "code",
   "execution_count": 196,
   "metadata": {},
   "outputs": [
    {
     "data": {
      "text/plain": [
       "array([ 13052,    401,      0,  14906,   5003,  85997,  22797,  39017,\n",
       "         8194,     49,   7551,  47471,  39801,    103,    154,    643,\n",
       "         2506, 100418,  29274,  15620,   8507,   8167,  35316,   1819,\n",
       "        42323,  88970,  53009,  17670,  11967,  11528,    478,  11122,\n",
       "         7388,   3868, 150776,   6317, 354370,  20262,   2095,     21,\n",
       "        29436,   5532,   3801,  68126,   2866,  13356,   9175,   4177,\n",
       "        18412,  51673,   7710,    944,     69,  32908,  18971,   1567,\n",
       "        13413,    787], dtype=int64)"
      ]
     },
     "execution_count": 196,
     "metadata": {},
     "output_type": "execute_result"
    }
   ],
   "source": [
    "df['Confirmed'].unique()"
   ]
  },
  {
   "cell_type": "code",
   "execution_count": null,
   "metadata": {},
   "outputs": [],
   "source": [
    "#checking the unique values of confirmed cases"
   ]
  },
  {
   "cell_type": "code",
   "execution_count": 197,
   "metadata": {},
   "outputs": [
    {
     "data": {
      "text/plain": [
       "array([       nan, 3.5200e+02, 3.7730e+03, 3.8520e+03, 3.4780e+03,\n",
       "       6.2640e+03, 3.9650e+03, 1.0590e+03, 1.2500e+02, 5.7800e+02,\n",
       "       1.6680e+03, 8.3620e+03, 4.7300e+02, 2.8260e+03, 2.6249e+04,\n",
       "       1.1000e+03, 2.9930e+03, 2.8234e+04, 1.2227e+04, 7.6810e+03,\n",
       "       4.4000e+02, 3.3600e+02, 1.2750e+03, 2.3945e+04, 1.8820e+03,\n",
       "       6.1886e+04, 1.1637e+04, 1.3020e+03, 1.3000e+01, 4.2660e+03,\n",
       "       1.4060e+03, 1.0300e+03, 5.4510e+03, 3.0230e+03, 1.1783e+04,\n",
       "       3.0341e+04, 4.4230e+03, 8.2400e+02, 6.1000e+01, 4.5230e+03,\n",
       "       9.5000e+02, 7.7280e+03, 5.2800e+02])"
      ]
     },
     "execution_count": 197,
     "metadata": {},
     "output_type": "execute_result"
    }
   ],
   "source": [
    "df['Recovered'].unique()"
   ]
  },
  {
   "cell_type": "code",
   "execution_count": null,
   "metadata": {},
   "outputs": [],
   "source": [
    "#checking the unique values of recovered cases"
   ]
  },
  {
   "cell_type": "code",
   "execution_count": 198,
   "metadata": {},
   "outputs": [
    {
     "data": {
      "text/plain": [
       "'\\nField description\\nProvince_State - The name of the State within the USA.\\nCountry_Region - The name of the Country (US).\\nLast_Update - The most recent date the file was pushed.\\nLat - Latitude.\\nLong_ - Longitude.\\nConfirmed - Aggregated confirmed case count for the state.\\nDeaths - Aggregated Death case count for the state.\\nRecovered - Aggregated Recovered case count for the state.\\nActive - Aggregated confirmed cases that have not been resolved (Active = Confirmed - Recovered - Deaths).\\nFIPS - Federal Information Processing Standards code that uniquely identifies counties within the USA.\\nIncident_Rate - confirmed cases per 100,000 persons.\\nPeople_Tested - Total number of people who have been tested.\\nPeople_Hospitalized - Total number of people hospitalized.\\nMortality_Rate - Number recorded deaths * 100/ Number confirmed cases.\\nUID - Unique Identifier for each row entry.\\nISO3 - Officialy assigned country code identifiers.\\nTesting_Rate - Total number of people tested per 100,000 persons.\\nHospitalization_Rate - Total number of people hospitalized * 100/ Number of confirmed cases.\\n'"
      ]
     },
     "execution_count": 198,
     "metadata": {},
     "output_type": "execute_result"
    }
   ],
   "source": [
    "\"\"\"\n",
    "Field description\n",
    "Province_State - The name of the State within the USA.\n",
    "Country_Region - The name of the Country (US).\n",
    "Last_Update - The most recent date the file was pushed.\n",
    "Lat - Latitude.\n",
    "Long_ - Longitude.\n",
    "Confirmed - Aggregated confirmed case count for the state.\n",
    "Deaths - Aggregated Death case count for the state.\n",
    "Recovered - Aggregated Recovered case count for the state.\n",
    "Active - Aggregated confirmed cases that have not been resolved (Active = Confirmed - Recovered - Deaths).\n",
    "FIPS - Federal Information Processing Standards code that uniquely identifies counties within the USA.\n",
    "Incident_Rate - confirmed cases per 100,000 persons.\n",
    "People_Tested - Total number of people who have been tested.\n",
    "People_Hospitalized - Total number of people hospitalized.\n",
    "Mortality_Rate - Number recorded deaths * 100/ Number confirmed cases.\n",
    "UID - Unique Identifier for each row entry.\n",
    "ISO3 - Officialy assigned country code identifiers.\n",
    "Testing_Rate - Total number of people tested per 100,000 persons.\n",
    "Hospitalization_Rate - Total number of people hospitalized * 100/ Number of confirmed cases.\n",
    "\"\"\""
   ]
  },
  {
   "cell_type": "code",
   "execution_count": 199,
   "metadata": {},
   "outputs": [
    {
     "data": {
      "text/plain": [
       "(58, 18)"
      ]
     },
     "execution_count": 199,
     "metadata": {},
     "output_type": "execute_result"
    }
   ],
   "source": [
    "df.shape"
   ]
  },
  {
   "cell_type": "code",
   "execution_count": null,
   "metadata": {},
   "outputs": [],
   "source": [
    "#checking the shape"
   ]
  },
  {
   "cell_type": "code",
   "execution_count": 200,
   "metadata": {},
   "outputs": [
    {
     "name": "stdout",
     "output_type": "stream",
     "text": [
      "<class 'pandas.core.frame.DataFrame'>\n",
      "RangeIndex: 58 entries, 0 to 57\n",
      "Data columns (total 18 columns):\n",
      " #   Column                Non-Null Count  Dtype  \n",
      "---  ------                --------------  -----  \n",
      " 0   Province_State        58 non-null     object \n",
      " 1   Country_Region        58 non-null     object \n",
      " 2   Last_Update           58 non-null     object \n",
      " 3   Lat                   56 non-null     float64\n",
      " 4   Long_                 56 non-null     float64\n",
      " 5   Confirmed             58 non-null     int64  \n",
      " 6   Deaths                58 non-null     int64  \n",
      " 7   Recovered             42 non-null     float64\n",
      " 8   Active                58 non-null     float64\n",
      " 9   FIPS                  58 non-null     int64  \n",
      " 10  Incident_Rate         56 non-null     float64\n",
      " 11  People_Tested         56 non-null     float64\n",
      " 12  People_Hospitalized   33 non-null     float64\n",
      " 13  Mortality_Rate        57 non-null     float64\n",
      " 14  UID                   58 non-null     int64  \n",
      " 15  ISO3                  58 non-null     object \n",
      " 16  Testing_Rate          56 non-null     float64\n",
      " 17  Hospitalization_Rate  33 non-null     float64\n",
      "dtypes: float64(10), int64(4), object(4)\n",
      "memory usage: 8.3+ KB\n"
     ]
    }
   ],
   "source": [
    "df.info()"
   ]
  },
  {
   "cell_type": "code",
   "execution_count": null,
   "metadata": {},
   "outputs": [],
   "source": [
    "#checking the data type"
   ]
  },
  {
   "cell_type": "code",
   "execution_count": 201,
   "metadata": {},
   "outputs": [
    {
     "data": {
      "text/plain": [
       "Province_State           0\n",
       "Country_Region           0\n",
       "Last_Update              0\n",
       "Lat                      2\n",
       "Long_                    2\n",
       "Confirmed                0\n",
       "Deaths                   0\n",
       "Recovered               16\n",
       "Active                   0\n",
       "FIPS                     0\n",
       "Incident_Rate            2\n",
       "People_Tested            2\n",
       "People_Hospitalized     25\n",
       "Mortality_Rate           1\n",
       "UID                      0\n",
       "ISO3                     0\n",
       "Testing_Rate             2\n",
       "Hospitalization_Rate    25\n",
       "dtype: int64"
      ]
     },
     "execution_count": 201,
     "metadata": {},
     "output_type": "execute_result"
    }
   ],
   "source": [
    "df.isnull().sum()"
   ]
  },
  {
   "cell_type": "code",
   "execution_count": null,
   "metadata": {},
   "outputs": [],
   "source": [
    "#checking the null values and filling with mean below as they are numeric type"
   ]
  },
  {
   "cell_type": "code",
   "execution_count": 202,
   "metadata": {},
   "outputs": [],
   "source": [
    "col=['Testing_Rate','Incident_Rate','People_Tested','Lat','Long_','Mortality_Rate','Recovered','People_Hospitalized','Hospitalization_Rate']\n",
    "df[col]=df[col].fillna((df[col].mean()))"
   ]
  },
  {
   "cell_type": "code",
   "execution_count": 203,
   "metadata": {},
   "outputs": [
    {
     "data": {
      "text/plain": [
       "Province_State          0\n",
       "Country_Region          0\n",
       "Last_Update             0\n",
       "Lat                     0\n",
       "Long_                   0\n",
       "Confirmed               0\n",
       "Deaths                  0\n",
       "Recovered               0\n",
       "Active                  0\n",
       "FIPS                    0\n",
       "Incident_Rate           0\n",
       "People_Tested           0\n",
       "People_Hospitalized     0\n",
       "Mortality_Rate          0\n",
       "UID                     0\n",
       "ISO3                    0\n",
       "Testing_Rate            0\n",
       "Hospitalization_Rate    0\n",
       "dtype: int64"
      ]
     },
     "execution_count": 203,
     "metadata": {},
     "output_type": "execute_result"
    }
   ],
   "source": [
    "df.isnull().sum()"
   ]
  },
  {
   "cell_type": "code",
   "execution_count": null,
   "metadata": {},
   "outputs": [],
   "source": [
    "#rechecking the null values"
   ]
  },
  {
   "cell_type": "code",
   "execution_count": 204,
   "metadata": {},
   "outputs": [
    {
     "name": "stdout",
     "output_type": "stream",
     "text": [
      "Province_State:['Alabama' 'Alaska' 'American Samoa' 'Arizona' 'Arkansas' 'California'\n",
      " 'Colorado' 'Connecticut' 'Delaware' 'Diamond Princess'\n",
      " 'District of Columbia' 'Florida' 'Georgia' 'Grand Princess' 'Guam'\n",
      " 'Hawaii' 'Idaho' 'Illinois' 'Indiana' 'Iowa' 'Kansas' 'Kentucky'\n",
      " 'Louisiana' 'Maine' 'Maryland' 'Massachusetts' 'Michigan' 'Minnesota'\n",
      " 'Mississippi' 'Missouri' 'Montana' 'Nebraska' 'Nevada' 'New Hampshire'\n",
      " 'New Jersey' 'New Mexico' 'New York' 'North Carolina' 'North Dakota'\n",
      " 'Northern Mariana Islands' 'Ohio' 'Oklahoma' 'Oregon' 'Pennsylvania'\n",
      " 'Puerto Rico' 'Rhode Island' 'South Carolina' 'South Dakota' 'Tennessee'\n",
      " 'Texas' 'Utah' 'Vermont' 'Virgin Islands' 'Virginia' 'Washington'\n",
      " 'West Virginia' 'Wisconsin' 'Wyoming']\n",
      "Grand Princess              1\n",
      "Utah                        1\n",
      "Northern Mariana Islands    1\n",
      "California                  1\n",
      "Massachusetts               1\n",
      "Colorado                    1\n",
      "Rhode Island                1\n",
      "New York                    1\n",
      "District of Columbia        1\n",
      "Mississippi                 1\n",
      "Maine                       1\n",
      "New Jersey                  1\n",
      "Louisiana                   1\n",
      "Guam                        1\n",
      "Puerto Rico                 1\n",
      "North Dakota                1\n",
      "Oregon                      1\n",
      "Connecticut                 1\n",
      "Pennsylvania                1\n",
      "Illinois                    1\n",
      "Tennessee                   1\n",
      "Idaho                       1\n",
      "Oklahoma                    1\n",
      "Maryland                    1\n",
      "Hawaii                      1\n",
      "West Virginia               1\n",
      "Minnesota                   1\n",
      "Nevada                      1\n",
      "New Mexico                  1\n",
      "South Dakota                1\n",
      "Kentucky                    1\n",
      "Kansas                      1\n",
      "Florida                     1\n",
      "Ohio                        1\n",
      "Virgin Islands              1\n",
      "Michigan                    1\n",
      "Nebraska                    1\n",
      "Alaska                      1\n",
      "Texas                       1\n",
      "Delaware                    1\n",
      "Diamond Princess            1\n",
      "Wisconsin                   1\n",
      "Arkansas                    1\n",
      "Alabama                     1\n",
      "New Hampshire               1\n",
      "North Carolina              1\n",
      "Iowa                        1\n",
      "Virginia                    1\n",
      "Missouri                    1\n",
      "Vermont                     1\n",
      "Arizona                     1\n",
      "American Samoa              1\n",
      "Wyoming                     1\n",
      "Georgia                     1\n",
      "South Carolina              1\n",
      "Washington                  1\n",
      "Indiana                     1\n",
      "Montana                     1\n",
      "Name: Province_State, dtype: int64\n",
      "*********************************************\n",
      "\n",
      "\n",
      "Country_Region:['US']\n",
      "US    58\n",
      "Name: Country_Region, dtype: int64\n",
      "*********************************************\n",
      "\n",
      "\n",
      "Last_Update:['2020-05-21 02:32:54']\n",
      "2020-05-21 02:32:54    58\n",
      "Name: Last_Update, dtype: int64\n",
      "*********************************************\n",
      "\n",
      "\n",
      "ISO3:['USA' 'ASM' 'GUM' 'MNP' 'PRI' 'VIR']\n",
      "USA    53\n",
      "PRI     1\n",
      "GUM     1\n",
      "VIR     1\n",
      "MNP     1\n",
      "ASM     1\n",
      "Name: ISO3, dtype: int64\n",
      "*********************************************\n",
      "\n",
      "\n"
     ]
    }
   ],
   "source": [
    "for column in df.columns:\n",
    "    if df[column].dtype==object:\n",
    "        print(str(column) +':' + str(df[column].unique()))\n",
    "        print(df[column].value_counts())\n",
    "        print('*********************************************')\n",
    "        print('\\n')"
   ]
  },
  {
   "cell_type": "code",
   "execution_count": null,
   "metadata": {},
   "outputs": [],
   "source": [
    "#checking the unique values using loop"
   ]
  },
  {
   "cell_type": "code",
   "execution_count": 205,
   "metadata": {},
   "outputs": [],
   "source": [
    "le= LabelEncoder()\n",
    "df['Province_State']=le.fit_transform(df['Province_State'])\n",
    "df['ISO3']=le.fit_transform(df['ISO3'])"
   ]
  },
  {
   "cell_type": "code",
   "execution_count": null,
   "metadata": {},
   "outputs": [],
   "source": [
    "#converting 'Province_State' & 'ISO3' into numeric through labelencoder"
   ]
  },
  {
   "cell_type": "code",
   "execution_count": 206,
   "metadata": {},
   "outputs": [
    {
     "data": {
      "text/html": [
       "<div>\n",
       "<style scoped>\n",
       "    .dataframe tbody tr th:only-of-type {\n",
       "        vertical-align: middle;\n",
       "    }\n",
       "\n",
       "    .dataframe tbody tr th {\n",
       "        vertical-align: top;\n",
       "    }\n",
       "\n",
       "    .dataframe thead th {\n",
       "        text-align: right;\n",
       "    }\n",
       "</style>\n",
       "<table border=\"1\" class=\"dataframe\">\n",
       "  <thead>\n",
       "    <tr style=\"text-align: right;\">\n",
       "      <th></th>\n",
       "      <th>Province_State</th>\n",
       "      <th>Lat</th>\n",
       "      <th>Long_</th>\n",
       "      <th>Confirmed</th>\n",
       "      <th>Deaths</th>\n",
       "      <th>Recovered</th>\n",
       "      <th>Active</th>\n",
       "      <th>FIPS</th>\n",
       "      <th>Incident_Rate</th>\n",
       "      <th>People_Tested</th>\n",
       "      <th>People_Hospitalized</th>\n",
       "      <th>Mortality_Rate</th>\n",
       "      <th>UID</th>\n",
       "      <th>ISO3</th>\n",
       "      <th>Testing_Rate</th>\n",
       "      <th>Hospitalization_Rate</th>\n",
       "    </tr>\n",
       "  </thead>\n",
       "  <tbody>\n",
       "    <tr>\n",
       "      <th>0</th>\n",
       "      <td>0</td>\n",
       "      <td>32.3182</td>\n",
       "      <td>-86.9023</td>\n",
       "      <td>13052</td>\n",
       "      <td>522</td>\n",
       "      <td>7007.428571</td>\n",
       "      <td>12530.0</td>\n",
       "      <td>1</td>\n",
       "      <td>266.194321</td>\n",
       "      <td>164450.0</td>\n",
       "      <td>1493.000000</td>\n",
       "      <td>3.999387</td>\n",
       "      <td>84000001</td>\n",
       "      <td>4</td>\n",
       "      <td>3353.942386</td>\n",
       "      <td>11.438860</td>\n",
       "    </tr>\n",
       "    <tr>\n",
       "      <th>1</th>\n",
       "      <td>1</td>\n",
       "      <td>61.3707</td>\n",
       "      <td>-152.4044</td>\n",
       "      <td>401</td>\n",
       "      <td>10</td>\n",
       "      <td>352.000000</td>\n",
       "      <td>39.0</td>\n",
       "      <td>2</td>\n",
       "      <td>54.815493</td>\n",
       "      <td>37045.0</td>\n",
       "      <td>4897.454545</td>\n",
       "      <td>2.493766</td>\n",
       "      <td>84000002</td>\n",
       "      <td>4</td>\n",
       "      <td>5063.940017</td>\n",
       "      <td>14.342541</td>\n",
       "    </tr>\n",
       "    <tr>\n",
       "      <th>2</th>\n",
       "      <td>2</td>\n",
       "      <td>-14.2710</td>\n",
       "      <td>-170.1320</td>\n",
       "      <td>0</td>\n",
       "      <td>0</td>\n",
       "      <td>7007.428571</td>\n",
       "      <td>0.0</td>\n",
       "      <td>60</td>\n",
       "      <td>0.000000</td>\n",
       "      <td>124.0</td>\n",
       "      <td>4897.454545</td>\n",
       "      <td>4.458248</td>\n",
       "      <td>16</td>\n",
       "      <td>0</td>\n",
       "      <td>222.857246</td>\n",
       "      <td>14.342541</td>\n",
       "    </tr>\n",
       "    <tr>\n",
       "      <th>3</th>\n",
       "      <td>3</td>\n",
       "      <td>33.7298</td>\n",
       "      <td>-111.4312</td>\n",
       "      <td>14906</td>\n",
       "      <td>747</td>\n",
       "      <td>3773.000000</td>\n",
       "      <td>10386.0</td>\n",
       "      <td>4</td>\n",
       "      <td>204.788838</td>\n",
       "      <td>165435.0</td>\n",
       "      <td>1792.000000</td>\n",
       "      <td>5.011405</td>\n",
       "      <td>84000004</td>\n",
       "      <td>4</td>\n",
       "      <td>2272.859351</td>\n",
       "      <td>12.022005</td>\n",
       "    </tr>\n",
       "    <tr>\n",
       "      <th>4</th>\n",
       "      <td>4</td>\n",
       "      <td>34.9697</td>\n",
       "      <td>-92.3731</td>\n",
       "      <td>5003</td>\n",
       "      <td>107</td>\n",
       "      <td>3852.000000</td>\n",
       "      <td>1044.0</td>\n",
       "      <td>5</td>\n",
       "      <td>165.782801</td>\n",
       "      <td>96258.0</td>\n",
       "      <td>535.000000</td>\n",
       "      <td>2.138717</td>\n",
       "      <td>84000005</td>\n",
       "      <td>4</td>\n",
       "      <td>3189.670370</td>\n",
       "      <td>10.693584</td>\n",
       "    </tr>\n",
       "  </tbody>\n",
       "</table>\n",
       "</div>"
      ],
      "text/plain": [
       "   Province_State      Lat     Long_  Confirmed  Deaths    Recovered   Active  \\\n",
       "0               0  32.3182  -86.9023      13052     522  7007.428571  12530.0   \n",
       "1               1  61.3707 -152.4044        401      10   352.000000     39.0   \n",
       "2               2 -14.2710 -170.1320          0       0  7007.428571      0.0   \n",
       "3               3  33.7298 -111.4312      14906     747  3773.000000  10386.0   \n",
       "4               4  34.9697  -92.3731       5003     107  3852.000000   1044.0   \n",
       "\n",
       "   FIPS  Incident_Rate  People_Tested  People_Hospitalized  Mortality_Rate  \\\n",
       "0     1     266.194321       164450.0          1493.000000        3.999387   \n",
       "1     2      54.815493        37045.0          4897.454545        2.493766   \n",
       "2    60       0.000000          124.0          4897.454545        4.458248   \n",
       "3     4     204.788838       165435.0          1792.000000        5.011405   \n",
       "4     5     165.782801        96258.0           535.000000        2.138717   \n",
       "\n",
       "        UID  ISO3  Testing_Rate  Hospitalization_Rate  \n",
       "0  84000001     4   3353.942386             11.438860  \n",
       "1  84000002     4   5063.940017             14.342541  \n",
       "2        16     0    222.857246             14.342541  \n",
       "3  84000004     4   2272.859351             12.022005  \n",
       "4  84000005     4   3189.670370             10.693584  "
      ]
     },
     "execution_count": 206,
     "metadata": {},
     "output_type": "execute_result"
    }
   ],
   "source": [
    "df.drop(['Last_Update','Country_Region'],axis=1,inplace=True)\n",
    "df.head()"
   ]
  },
  {
   "cell_type": "code",
   "execution_count": null,
   "metadata": {},
   "outputs": [],
   "source": [
    "#dropping the above columns as there is only one value which will have no correlation with the target"
   ]
  },
  {
   "cell_type": "code",
   "execution_count": 208,
   "metadata": {},
   "outputs": [
    {
     "data": {
      "text/html": [
       "<div>\n",
       "<style scoped>\n",
       "    .dataframe tbody tr th:only-of-type {\n",
       "        vertical-align: middle;\n",
       "    }\n",
       "\n",
       "    .dataframe tbody tr th {\n",
       "        vertical-align: top;\n",
       "    }\n",
       "\n",
       "    .dataframe thead th {\n",
       "        text-align: right;\n",
       "    }\n",
       "</style>\n",
       "<table border=\"1\" class=\"dataframe\">\n",
       "  <thead>\n",
       "    <tr style=\"text-align: right;\">\n",
       "      <th></th>\n",
       "      <th>Province_State</th>\n",
       "      <th>Lat</th>\n",
       "      <th>Long_</th>\n",
       "      <th>Confirmed</th>\n",
       "      <th>Deaths</th>\n",
       "      <th>Recovered</th>\n",
       "      <th>Active</th>\n",
       "      <th>FIPS</th>\n",
       "      <th>Incident_Rate</th>\n",
       "      <th>People_Tested</th>\n",
       "      <th>People_Hospitalized</th>\n",
       "      <th>Mortality_Rate</th>\n",
       "      <th>UID</th>\n",
       "      <th>ISO3</th>\n",
       "      <th>Testing_Rate</th>\n",
       "      <th>Hospitalization_Rate</th>\n",
       "    </tr>\n",
       "  </thead>\n",
       "  <tbody>\n",
       "    <tr>\n",
       "      <th>Province_State</th>\n",
       "      <td>1.000000</td>\n",
       "      <td>0.153948</td>\n",
       "      <td>0.089445</td>\n",
       "      <td>0.006490</td>\n",
       "      <td>0.015229</td>\n",
       "      <td>0.067595</td>\n",
       "      <td>-0.027612</td>\n",
       "      <td>-0.195045</td>\n",
       "      <td>-0.078280</td>\n",
       "      <td>-0.065428</td>\n",
       "      <td>5.461319e-03</td>\n",
       "      <td>0.019090</td>\n",
       "      <td>-3.133086e-02</td>\n",
       "      <td>1.967772e-01</td>\n",
       "      <td>0.083183</td>\n",
       "      <td>-1.316941e-01</td>\n",
       "    </tr>\n",
       "    <tr>\n",
       "      <th>Lat</th>\n",
       "      <td>0.153948</td>\n",
       "      <td>1.000000</td>\n",
       "      <td>-0.278274</td>\n",
       "      <td>0.120391</td>\n",
       "      <td>0.119685</td>\n",
       "      <td>0.030196</td>\n",
       "      <td>0.119635</td>\n",
       "      <td>-0.000404</td>\n",
       "      <td>0.245693</td>\n",
       "      <td>0.084769</td>\n",
       "      <td>2.645628e-02</td>\n",
       "      <td>-0.134906</td>\n",
       "      <td>7.727677e-01</td>\n",
       "      <td>7.244034e-01</td>\n",
       "      <td>0.309579</td>\n",
       "      <td>-6.625465e-02</td>\n",
       "    </tr>\n",
       "    <tr>\n",
       "      <th>Long_</th>\n",
       "      <td>0.089445</td>\n",
       "      <td>-0.278274</td>\n",
       "      <td>1.000000</td>\n",
       "      <td>0.009951</td>\n",
       "      <td>0.028690</td>\n",
       "      <td>-0.041588</td>\n",
       "      <td>0.011604</td>\n",
       "      <td>0.000396</td>\n",
       "      <td>0.041318</td>\n",
       "      <td>-0.077781</td>\n",
       "      <td>7.967739e-02</td>\n",
       "      <td>0.297192</td>\n",
       "      <td>-5.259975e-01</td>\n",
       "      <td>-4.036427e-01</td>\n",
       "      <td>0.190191</td>\n",
       "      <td>7.138145e-02</td>\n",
       "    </tr>\n",
       "    <tr>\n",
       "      <th>Confirmed</th>\n",
       "      <td>0.006490</td>\n",
       "      <td>0.120391</td>\n",
       "      <td>0.009951</td>\n",
       "      <td>1.000000</td>\n",
       "      <td>0.982191</td>\n",
       "      <td>0.822547</td>\n",
       "      <td>0.985218</td>\n",
       "      <td>-0.096696</td>\n",
       "      <td>0.708436</td>\n",
       "      <td>0.824136</td>\n",
       "      <td>8.692673e-01</td>\n",
       "      <td>0.382537</td>\n",
       "      <td>1.539717e-01</td>\n",
       "      <td>1.099993e-01</td>\n",
       "      <td>0.332464</td>\n",
       "      <td>2.874708e-01</td>\n",
       "    </tr>\n",
       "    <tr>\n",
       "      <th>Deaths</th>\n",
       "      <td>0.015229</td>\n",
       "      <td>0.119685</td>\n",
       "      <td>0.028690</td>\n",
       "      <td>0.982191</td>\n",
       "      <td>1.000000</td>\n",
       "      <td>0.830223</td>\n",
       "      <td>0.954378</td>\n",
       "      <td>-0.075053</td>\n",
       "      <td>0.710105</td>\n",
       "      <td>0.739634</td>\n",
       "      <td>9.082786e-01</td>\n",
       "      <td>0.427127</td>\n",
       "      <td>1.200429e-01</td>\n",
       "      <td>8.558846e-02</td>\n",
       "      <td>0.344465</td>\n",
       "      <td>2.982254e-01</td>\n",
       "    </tr>\n",
       "    <tr>\n",
       "      <th>Recovered</th>\n",
       "      <td>0.067595</td>\n",
       "      <td>0.030196</td>\n",
       "      <td>-0.041588</td>\n",
       "      <td>0.822547</td>\n",
       "      <td>0.830223</td>\n",
       "      <td>1.000000</td>\n",
       "      <td>0.725085</td>\n",
       "      <td>-0.000012</td>\n",
       "      <td>0.542795</td>\n",
       "      <td>0.711255</td>\n",
       "      <td>7.618294e-01</td>\n",
       "      <td>0.322160</td>\n",
       "      <td>1.303142e-01</td>\n",
       "      <td>6.807968e-02</td>\n",
       "      <td>0.220597</td>\n",
       "      <td>2.316917e-01</td>\n",
       "    </tr>\n",
       "    <tr>\n",
       "      <th>Active</th>\n",
       "      <td>-0.027612</td>\n",
       "      <td>0.119635</td>\n",
       "      <td>0.011604</td>\n",
       "      <td>0.985218</td>\n",
       "      <td>0.954378</td>\n",
       "      <td>0.725085</td>\n",
       "      <td>1.000000</td>\n",
       "      <td>-0.092276</td>\n",
       "      <td>0.700926</td>\n",
       "      <td>0.826144</td>\n",
       "      <td>8.359377e-01</td>\n",
       "      <td>0.367626</td>\n",
       "      <td>1.463538e-01</td>\n",
       "      <td>1.048243e-01</td>\n",
       "      <td>0.321395</td>\n",
       "      <td>2.845637e-01</td>\n",
       "    </tr>\n",
       "    <tr>\n",
       "      <th>FIPS</th>\n",
       "      <td>-0.195045</td>\n",
       "      <td>-0.000404</td>\n",
       "      <td>0.000396</td>\n",
       "      <td>-0.096696</td>\n",
       "      <td>-0.075053</td>\n",
       "      <td>-0.000012</td>\n",
       "      <td>-0.092276</td>\n",
       "      <td>1.000000</td>\n",
       "      <td>-0.000237</td>\n",
       "      <td>-0.000209</td>\n",
       "      <td>9.150251e-06</td>\n",
       "      <td>-0.262178</td>\n",
       "      <td>5.802216e-02</td>\n",
       "      <td>4.058567e-02</td>\n",
       "      <td>-0.000100</td>\n",
       "      <td>-1.176128e-04</td>\n",
       "    </tr>\n",
       "    <tr>\n",
       "      <th>Incident_Rate</th>\n",
       "      <td>-0.078280</td>\n",
       "      <td>0.245693</td>\n",
       "      <td>0.041318</td>\n",
       "      <td>0.708436</td>\n",
       "      <td>0.710105</td>\n",
       "      <td>0.542795</td>\n",
       "      <td>0.700926</td>\n",
       "      <td>-0.000237</td>\n",
       "      <td>1.000000</td>\n",
       "      <td>0.441669</td>\n",
       "      <td>5.510764e-01</td>\n",
       "      <td>0.353882</td>\n",
       "      <td>2.643102e-01</td>\n",
       "      <td>1.954154e-01</td>\n",
       "      <td>0.620621</td>\n",
       "      <td>1.960289e-01</td>\n",
       "    </tr>\n",
       "    <tr>\n",
       "      <th>People_Tested</th>\n",
       "      <td>-0.065428</td>\n",
       "      <td>0.084769</td>\n",
       "      <td>-0.077781</td>\n",
       "      <td>0.824136</td>\n",
       "      <td>0.739634</td>\n",
       "      <td>0.711255</td>\n",
       "      <td>0.826144</td>\n",
       "      <td>-0.000209</td>\n",
       "      <td>0.441669</td>\n",
       "      <td>1.000000</td>\n",
       "      <td>6.420913e-01</td>\n",
       "      <td>0.220200</td>\n",
       "      <td>2.356350e-01</td>\n",
       "      <td>1.665665e-01</td>\n",
       "      <td>0.230753</td>\n",
       "      <td>2.526802e-01</td>\n",
       "    </tr>\n",
       "    <tr>\n",
       "      <th>People_Hospitalized</th>\n",
       "      <td>0.005461</td>\n",
       "      <td>0.026456</td>\n",
       "      <td>0.079677</td>\n",
       "      <td>0.869267</td>\n",
       "      <td>0.908279</td>\n",
       "      <td>0.761829</td>\n",
       "      <td>0.835938</td>\n",
       "      <td>0.000009</td>\n",
       "      <td>0.551076</td>\n",
       "      <td>0.642091</td>\n",
       "      <td>1.000000e+00</td>\n",
       "      <td>0.334335</td>\n",
       "      <td>6.697668e-09</td>\n",
       "      <td>4.762249e-18</td>\n",
       "      <td>0.270255</td>\n",
       "      <td>3.775863e-01</td>\n",
       "    </tr>\n",
       "    <tr>\n",
       "      <th>Mortality_Rate</th>\n",
       "      <td>0.019090</td>\n",
       "      <td>-0.134906</td>\n",
       "      <td>0.297192</td>\n",
       "      <td>0.382537</td>\n",
       "      <td>0.427127</td>\n",
       "      <td>0.322160</td>\n",
       "      <td>0.367626</td>\n",
       "      <td>-0.262178</td>\n",
       "      <td>0.353882</td>\n",
       "      <td>0.220200</td>\n",
       "      <td>3.343354e-01</td>\n",
       "      <td>1.000000</td>\n",
       "      <td>-2.342811e-01</td>\n",
       "      <td>-2.487630e-02</td>\n",
       "      <td>0.158970</td>\n",
       "      <td>4.512178e-01</td>\n",
       "    </tr>\n",
       "    <tr>\n",
       "      <th>UID</th>\n",
       "      <td>-0.031331</td>\n",
       "      <td>0.772768</td>\n",
       "      <td>-0.525997</td>\n",
       "      <td>0.153972</td>\n",
       "      <td>0.120043</td>\n",
       "      <td>0.130314</td>\n",
       "      <td>0.146354</td>\n",
       "      <td>0.058022</td>\n",
       "      <td>0.264310</td>\n",
       "      <td>0.235635</td>\n",
       "      <td>6.697668e-09</td>\n",
       "      <td>-0.234281</td>\n",
       "      <td>1.000000e+00</td>\n",
       "      <td>7.071502e-01</td>\n",
       "      <td>0.258162</td>\n",
       "      <td>-8.608851e-08</td>\n",
       "    </tr>\n",
       "    <tr>\n",
       "      <th>ISO3</th>\n",
       "      <td>0.196777</td>\n",
       "      <td>0.724403</td>\n",
       "      <td>-0.403643</td>\n",
       "      <td>0.109999</td>\n",
       "      <td>0.085588</td>\n",
       "      <td>0.068080</td>\n",
       "      <td>0.104824</td>\n",
       "      <td>0.040586</td>\n",
       "      <td>0.195415</td>\n",
       "      <td>0.166566</td>\n",
       "      <td>4.762249e-18</td>\n",
       "      <td>-0.024876</td>\n",
       "      <td>7.071502e-01</td>\n",
       "      <td>1.000000e+00</td>\n",
       "      <td>0.159242</td>\n",
       "      <td>2.644221e-17</td>\n",
       "    </tr>\n",
       "    <tr>\n",
       "      <th>Testing_Rate</th>\n",
       "      <td>0.083183</td>\n",
       "      <td>0.309579</td>\n",
       "      <td>0.190191</td>\n",
       "      <td>0.332464</td>\n",
       "      <td>0.344465</td>\n",
       "      <td>0.220597</td>\n",
       "      <td>0.321395</td>\n",
       "      <td>-0.000100</td>\n",
       "      <td>0.620621</td>\n",
       "      <td>0.230753</td>\n",
       "      <td>2.702546e-01</td>\n",
       "      <td>0.158970</td>\n",
       "      <td>2.581623e-01</td>\n",
       "      <td>1.592417e-01</td>\n",
       "      <td>1.000000</td>\n",
       "      <td>-5.846277e-02</td>\n",
       "    </tr>\n",
       "    <tr>\n",
       "      <th>Hospitalization_Rate</th>\n",
       "      <td>-0.131694</td>\n",
       "      <td>-0.066255</td>\n",
       "      <td>0.071381</td>\n",
       "      <td>0.287471</td>\n",
       "      <td>0.298225</td>\n",
       "      <td>0.231692</td>\n",
       "      <td>0.284564</td>\n",
       "      <td>-0.000118</td>\n",
       "      <td>0.196029</td>\n",
       "      <td>0.252680</td>\n",
       "      <td>3.775863e-01</td>\n",
       "      <td>0.451218</td>\n",
       "      <td>-8.608851e-08</td>\n",
       "      <td>2.644221e-17</td>\n",
       "      <td>-0.058463</td>\n",
       "      <td>1.000000e+00</td>\n",
       "    </tr>\n",
       "  </tbody>\n",
       "</table>\n",
       "</div>"
      ],
      "text/plain": [
       "                      Province_State       Lat     Long_  Confirmed    Deaths  \\\n",
       "Province_State              1.000000  0.153948  0.089445   0.006490  0.015229   \n",
       "Lat                         0.153948  1.000000 -0.278274   0.120391  0.119685   \n",
       "Long_                       0.089445 -0.278274  1.000000   0.009951  0.028690   \n",
       "Confirmed                   0.006490  0.120391  0.009951   1.000000  0.982191   \n",
       "Deaths                      0.015229  0.119685  0.028690   0.982191  1.000000   \n",
       "Recovered                   0.067595  0.030196 -0.041588   0.822547  0.830223   \n",
       "Active                     -0.027612  0.119635  0.011604   0.985218  0.954378   \n",
       "FIPS                       -0.195045 -0.000404  0.000396  -0.096696 -0.075053   \n",
       "Incident_Rate              -0.078280  0.245693  0.041318   0.708436  0.710105   \n",
       "People_Tested              -0.065428  0.084769 -0.077781   0.824136  0.739634   \n",
       "People_Hospitalized         0.005461  0.026456  0.079677   0.869267  0.908279   \n",
       "Mortality_Rate              0.019090 -0.134906  0.297192   0.382537  0.427127   \n",
       "UID                        -0.031331  0.772768 -0.525997   0.153972  0.120043   \n",
       "ISO3                        0.196777  0.724403 -0.403643   0.109999  0.085588   \n",
       "Testing_Rate                0.083183  0.309579  0.190191   0.332464  0.344465   \n",
       "Hospitalization_Rate       -0.131694 -0.066255  0.071381   0.287471  0.298225   \n",
       "\n",
       "                      Recovered    Active      FIPS  Incident_Rate  \\\n",
       "Province_State         0.067595 -0.027612 -0.195045      -0.078280   \n",
       "Lat                    0.030196  0.119635 -0.000404       0.245693   \n",
       "Long_                 -0.041588  0.011604  0.000396       0.041318   \n",
       "Confirmed              0.822547  0.985218 -0.096696       0.708436   \n",
       "Deaths                 0.830223  0.954378 -0.075053       0.710105   \n",
       "Recovered              1.000000  0.725085 -0.000012       0.542795   \n",
       "Active                 0.725085  1.000000 -0.092276       0.700926   \n",
       "FIPS                  -0.000012 -0.092276  1.000000      -0.000237   \n",
       "Incident_Rate          0.542795  0.700926 -0.000237       1.000000   \n",
       "People_Tested          0.711255  0.826144 -0.000209       0.441669   \n",
       "People_Hospitalized    0.761829  0.835938  0.000009       0.551076   \n",
       "Mortality_Rate         0.322160  0.367626 -0.262178       0.353882   \n",
       "UID                    0.130314  0.146354  0.058022       0.264310   \n",
       "ISO3                   0.068080  0.104824  0.040586       0.195415   \n",
       "Testing_Rate           0.220597  0.321395 -0.000100       0.620621   \n",
       "Hospitalization_Rate   0.231692  0.284564 -0.000118       0.196029   \n",
       "\n",
       "                      People_Tested  People_Hospitalized  Mortality_Rate  \\\n",
       "Province_State            -0.065428         5.461319e-03        0.019090   \n",
       "Lat                        0.084769         2.645628e-02       -0.134906   \n",
       "Long_                     -0.077781         7.967739e-02        0.297192   \n",
       "Confirmed                  0.824136         8.692673e-01        0.382537   \n",
       "Deaths                     0.739634         9.082786e-01        0.427127   \n",
       "Recovered                  0.711255         7.618294e-01        0.322160   \n",
       "Active                     0.826144         8.359377e-01        0.367626   \n",
       "FIPS                      -0.000209         9.150251e-06       -0.262178   \n",
       "Incident_Rate              0.441669         5.510764e-01        0.353882   \n",
       "People_Tested              1.000000         6.420913e-01        0.220200   \n",
       "People_Hospitalized        0.642091         1.000000e+00        0.334335   \n",
       "Mortality_Rate             0.220200         3.343354e-01        1.000000   \n",
       "UID                        0.235635         6.697668e-09       -0.234281   \n",
       "ISO3                       0.166566         4.762249e-18       -0.024876   \n",
       "Testing_Rate               0.230753         2.702546e-01        0.158970   \n",
       "Hospitalization_Rate       0.252680         3.775863e-01        0.451218   \n",
       "\n",
       "                               UID          ISO3  Testing_Rate  \\\n",
       "Province_State       -3.133086e-02  1.967772e-01      0.083183   \n",
       "Lat                   7.727677e-01  7.244034e-01      0.309579   \n",
       "Long_                -5.259975e-01 -4.036427e-01      0.190191   \n",
       "Confirmed             1.539717e-01  1.099993e-01      0.332464   \n",
       "Deaths                1.200429e-01  8.558846e-02      0.344465   \n",
       "Recovered             1.303142e-01  6.807968e-02      0.220597   \n",
       "Active                1.463538e-01  1.048243e-01      0.321395   \n",
       "FIPS                  5.802216e-02  4.058567e-02     -0.000100   \n",
       "Incident_Rate         2.643102e-01  1.954154e-01      0.620621   \n",
       "People_Tested         2.356350e-01  1.665665e-01      0.230753   \n",
       "People_Hospitalized   6.697668e-09  4.762249e-18      0.270255   \n",
       "Mortality_Rate       -2.342811e-01 -2.487630e-02      0.158970   \n",
       "UID                   1.000000e+00  7.071502e-01      0.258162   \n",
       "ISO3                  7.071502e-01  1.000000e+00      0.159242   \n",
       "Testing_Rate          2.581623e-01  1.592417e-01      1.000000   \n",
       "Hospitalization_Rate -8.608851e-08  2.644221e-17     -0.058463   \n",
       "\n",
       "                      Hospitalization_Rate  \n",
       "Province_State               -1.316941e-01  \n",
       "Lat                          -6.625465e-02  \n",
       "Long_                         7.138145e-02  \n",
       "Confirmed                     2.874708e-01  \n",
       "Deaths                        2.982254e-01  \n",
       "Recovered                     2.316917e-01  \n",
       "Active                        2.845637e-01  \n",
       "FIPS                         -1.176128e-04  \n",
       "Incident_Rate                 1.960289e-01  \n",
       "People_Tested                 2.526802e-01  \n",
       "People_Hospitalized           3.775863e-01  \n",
       "Mortality_Rate                4.512178e-01  \n",
       "UID                          -8.608851e-08  \n",
       "ISO3                          2.644221e-17  \n",
       "Testing_Rate                 -5.846277e-02  \n",
       "Hospitalization_Rate          1.000000e+00  "
      ]
     },
     "execution_count": 208,
     "metadata": {},
     "output_type": "execute_result"
    }
   ],
   "source": [
    "dfcor=df.corr()\n",
    "dfcor"
   ]
  },
  {
   "cell_type": "code",
   "execution_count": null,
   "metadata": {},
   "outputs": [],
   "source": [
    "#There is more or less uniform correlation with the target column recovered except Province_State.Lat,Long,Fips\n",
    "#Graphically representing the same through heatmap"
   ]
  },
  {
   "cell_type": "code",
   "execution_count": 209,
   "metadata": {},
   "outputs": [
    {
     "data": {
      "text/plain": [
       "<AxesSubplot:>"
      ]
     },
     "execution_count": 209,
     "metadata": {},
     "output_type": "execute_result"
    },
    {
     "data": {
      "image/png": "[encoded data removed]",
      "text/plain": [
       "<Figure size 720x576 with 2 Axes>"
      ]
     },
     "metadata": {
      "needs_background": "light"
     },
     "output_type": "display_data"
    }
   ],
   "source": [
    "plt.figure(figsize=(10,8))\n",
    "sns.heatmap(dfcor,annot=True,fmt='.0%',cmap='Blues')"
   ]
  },
  {
   "cell_type": "code",
   "execution_count": 210,
   "metadata": {},
   "outputs": [
    {
     "data": {
      "text/plain": [
       "Text(0.5, 1.0, 'Correlation with target variable')"
      ]
     },
     "execution_count": 210,
     "metadata": {},
     "output_type": "execute_result"
    },
    {
     "data": {
      "image/png": "[encoded data removed]",
      "text/plain": [
       "<Figure size 1080x864 with 1 Axes>"
      ]
     },
     "metadata": {
      "needs_background": "light"
     },
     "output_type": "display_data"
    }
   ],
   "source": [
    "plt.figure(figsize=(15,12))\n",
    "df.drop('Recovered',axis=1).corrwith(df['Recovered']).plot(kind='bar',grid=True)\n",
    "plt.xticks(rotation=90)\n",
    "plt.title(\"Correlation with target variable\")"
   ]
  },
  {
   "cell_type": "code",
   "execution_count": null,
   "metadata": {},
   "outputs": [],
   "source": [
    "#Checking the corrlelation with the target colum"
   ]
  },
  {
   "cell_type": "code",
   "execution_count": 211,
   "metadata": {},
   "outputs": [
    {
     "data": {
      "text/plain": [
       "Index(['Province_State', 'Lat', 'Long_', 'Confirmed', 'Deaths', 'Recovered',\n",
       "       'Active', 'FIPS', 'Incident_Rate', 'People_Tested',\n",
       "       'People_Hospitalized', 'Mortality_Rate', 'UID', 'ISO3', 'Testing_Rate',\n",
       "       'Hospitalization_Rate'],\n",
       "      dtype='object')"
      ]
     },
     "execution_count": 211,
     "metadata": {},
     "output_type": "execute_result"
    }
   ],
   "source": [
    "df.columns"
   ]
  },
  {
   "cell_type": "code",
   "execution_count": null,
   "metadata": {},
   "outputs": [],
   "source": [
    "#checking the columns"
   ]
  },
  {
   "cell_type": "markdown",
   "metadata": {},
   "source": [
    "Univariate Analysis"
   ]
  },
  {
   "cell_type": "code",
   "execution_count": 212,
   "metadata": {},
   "outputs": [
    {
     "data": {
      "text/plain": [
       "<AxesSubplot:xlabel='People_Tested', ylabel='Density'>"
      ]
     },
     "execution_count": 212,
     "metadata": {},
     "output_type": "execute_result"
    },
    {
     "data": {
      "image/png": "[encoded data removed]",
      "text/plain": [
       "<Figure size 432x288 with 1 Axes>"
      ]
     },
     "metadata": {
      "needs_background": "light"
     },
     "output_type": "display_data"
    }
   ],
   "source": [
    "sns.distplot(df['People_Tested'])"
   ]
  },
  {
   "cell_type": "code",
   "execution_count": null,
   "metadata": {},
   "outputs": [],
   "source": [
    "#People tested ratio is right skewed, positvely,mean is more to the median"
   ]
  },
  {
   "cell_type": "code",
   "execution_count": 213,
   "metadata": {},
   "outputs": [
    {
     "data": {
      "text/plain": [
       "<AxesSubplot:xlabel='Incident_Rate', ylabel='Density'>"
      ]
     },
     "execution_count": 213,
     "metadata": {},
     "output_type": "execute_result"
    },
    {
     "data": {
      "image/png": "[encoded data removed]",
      "text/plain": [
       "<Figure size 432x288 with 1 Axes>"
      ]
     },
     "metadata": {
      "needs_background": "light"
     },
     "output_type": "display_data"
    }
   ],
   "source": [
    "sns.distplot(df['Incident_Rate'])"
   ]
  },
  {
   "cell_type": "code",
   "execution_count": null,
   "metadata": {},
   "outputs": [],
   "source": [
    "#Incident rate ratio is right skewed, positvely,mean is more to the median"
   ]
  },
  {
   "cell_type": "code",
   "execution_count": 214,
   "metadata": {},
   "outputs": [
    {
     "data": {
      "text/plain": [
       "{'bodies': [<matplotlib.collections.PolyCollection at 0x25fd3732ee0>],\n",
       " 'cmaxes': <matplotlib.collections.LineCollection at 0x25fd3732d30>,\n",
       " 'cmins': <matplotlib.collections.LineCollection at 0x25fd373f3d0>,\n",
       " 'cbars': <matplotlib.collections.LineCollection at 0x25fd373f190>}"
      ]
     },
     "execution_count": 214,
     "metadata": {},
     "output_type": "execute_result"
    },
    {
     "data": {
      "image/png": "[encoded data removed]",
      "text/plain": [
       "<Figure size 432x288 with 1 Axes>"
      ]
     },
     "metadata": {
      "needs_background": "light"
     },
     "output_type": "display_data"
    }
   ],
   "source": [
    "plt.violinplot(df['Recovered'])"
   ]
  },
  {
   "cell_type": "code",
   "execution_count": null,
   "metadata": {},
   "outputs": [],
   "source": [
    "# recovered cases lies majorly between 10k"
   ]
  },
  {
   "cell_type": "code",
   "execution_count": 216,
   "metadata": {},
   "outputs": [
    {
     "data": {
      "text/plain": [
       "<AxesSubplot:xlabel='Hospitalization_Rate', ylabel='Density'>"
      ]
     },
     "execution_count": 216,
     "metadata": {},
     "output_type": "execute_result"
    },
    {
     "data": {
      "image/png": "[encoded data removed]",
      "text/plain": [
       "<Figure size 432x288 with 1 Axes>"
      ]
     },
     "metadata": {
      "needs_background": "light"
     },
     "output_type": "display_data"
    }
   ],
   "source": [
    "sns.distplot(df['Hospitalization_Rate'])"
   ]
  },
  {
   "cell_type": "code",
   "execution_count": null,
   "metadata": {},
   "outputs": [],
   "source": [
    "# Hospitalized rate is uniform in nature"
   ]
  },
  {
   "cell_type": "code",
   "execution_count": 217,
   "metadata": {},
   "outputs": [
    {
     "data": {
      "text/plain": [
       "<AxesSubplot:xlabel='Mortality_Rate', ylabel='Density'>"
      ]
     },
     "execution_count": 217,
     "metadata": {},
     "output_type": "execute_result"
    },
    {
     "data": {
      "image/png": "[encoded data removed]",
      "text/plain": [
       "<Figure size 432x288 with 1 Axes>"
      ]
     },
     "metadata": {
      "needs_background": "light"
     },
     "output_type": "display_data"
    }
   ],
   "source": [
    "sns.distplot(df['Mortality_Rate'])"
   ]
  },
  {
   "cell_type": "code",
   "execution_count": null,
   "metadata": {},
   "outputs": [],
   "source": [
    "#Mortality rate is also uniform in nature"
   ]
  },
  {
   "cell_type": "code",
   "execution_count": 218,
   "metadata": {},
   "outputs": [
    {
     "data": {
      "text/plain": [
       "<seaborn.axisgrid.FacetGrid at 0x25fd3cb9970>"
      ]
     },
     "execution_count": 218,
     "metadata": {},
     "output_type": "execute_result"
    },
    {
     "data": {
      "image/png": "[encoded data removed]",
      "text/plain": [
       "<Figure size 360x360 with 1 Axes>"
      ]
     },
     "metadata": {
      "needs_background": "light"
     },
     "output_type": "display_data"
    }
   ],
   "source": [
    "sns.relplot(x='Recovered',y='Confirmed',data=df)"
   ]
  },
  {
   "cell_type": "code",
   "execution_count": null,
   "metadata": {},
   "outputs": [],
   "source": [
    "#recovered vs confirmed has direct relationship and there seems to be outliers present\n",
    "#majority of the data lies with 30k"
   ]
  },
  {
   "cell_type": "code",
   "execution_count": 219,
   "metadata": {},
   "outputs": [
    {
     "data": {
      "text/plain": [
       "<seaborn.axisgrid.FacetGrid at 0x25fd3cd8be0>"
      ]
     },
     "execution_count": 219,
     "metadata": {},
     "output_type": "execute_result"
    },
    {
     "data": {
      "image/png": "[encoded data removed]",
      "text/plain": [
       "<Figure size 360x360 with 1 Axes>"
      ]
     },
     "metadata": {
      "needs_background": "light"
     },
     "output_type": "display_data"
    }
   ],
   "source": [
    "sns.relplot(x='Recovered',y='Active',data=df)"
   ]
  },
  {
   "cell_type": "code",
   "execution_count": null,
   "metadata": {},
   "outputs": [],
   "source": [
    "#recovered vs active ratio is positively correlated with outliters present\n",
    "#majority of the data lies with 30k"
   ]
  },
  {
   "cell_type": "code",
   "execution_count": 220,
   "metadata": {},
   "outputs": [
    {
     "data": {
      "text/plain": [
       "<seaborn.axisgrid.FacetGrid at 0x25fd3c2ba60>"
      ]
     },
     "execution_count": 220,
     "metadata": {},
     "output_type": "execute_result"
    },
    {
     "data": {
      "image/png": "[encoded data removed]",
      "text/plain": [
       "<Figure size 360x360 with 1 Axes>"
      ]
     },
     "metadata": {
      "needs_background": "light"
     },
     "output_type": "display_data"
    }
   ],
   "source": [
    "sns.relplot(x='Recovered',y='Deaths',data=df)"
   ]
  },
  {
   "cell_type": "code",
   "execution_count": null,
   "metadata": {},
   "outputs": [],
   "source": [
    "#recovered vs deaths ratio is positively correlated with outliters present\n",
    "#majority of the data lies with 30k"
   ]
  },
  {
   "cell_type": "code",
   "execution_count": 221,
   "metadata": {},
   "outputs": [
    {
     "data": {
      "text/html": [
       "<div>\n",
       "<style scoped>\n",
       "    .dataframe tbody tr th:only-of-type {\n",
       "        vertical-align: middle;\n",
       "    }\n",
       "\n",
       "    .dataframe tbody tr th {\n",
       "        vertical-align: top;\n",
       "    }\n",
       "\n",
       "    .dataframe thead th {\n",
       "        text-align: right;\n",
       "    }\n",
       "</style>\n",
       "<table border=\"1\" class=\"dataframe\">\n",
       "  <thead>\n",
       "    <tr style=\"text-align: right;\">\n",
       "      <th></th>\n",
       "      <th>Province_State</th>\n",
       "      <th>Lat</th>\n",
       "      <th>Long_</th>\n",
       "      <th>Confirmed</th>\n",
       "      <th>Deaths</th>\n",
       "      <th>Recovered</th>\n",
       "      <th>Active</th>\n",
       "      <th>FIPS</th>\n",
       "      <th>Incident_Rate</th>\n",
       "      <th>People_Tested</th>\n",
       "      <th>People_Hospitalized</th>\n",
       "      <th>Mortality_Rate</th>\n",
       "      <th>UID</th>\n",
       "      <th>ISO3</th>\n",
       "      <th>Testing_Rate</th>\n",
       "      <th>Hospitalization_Rate</th>\n",
       "    </tr>\n",
       "  </thead>\n",
       "  <tbody>\n",
       "    <tr>\n",
       "      <th>count</th>\n",
       "      <td>58.000000</td>\n",
       "      <td>58.000000</td>\n",
       "      <td>58.000000</td>\n",
       "      <td>58.000000</td>\n",
       "      <td>58.000000</td>\n",
       "      <td>58.000000</td>\n",
       "      <td>58.000000</td>\n",
       "      <td>58.000000</td>\n",
       "      <td>58.000000</td>\n",
       "      <td>5.800000e+01</td>\n",
       "      <td>58.000000</td>\n",
       "      <td>58.000000</td>\n",
       "      <td>5.800000e+01</td>\n",
       "      <td>58.000000</td>\n",
       "      <td>58.000000</td>\n",
       "      <td>58.000000</td>\n",
       "    </tr>\n",
       "    <tr>\n",
       "      <th>mean</th>\n",
       "      <td>28.500000</td>\n",
       "      <td>36.840089</td>\n",
       "      <td>-85.206614</td>\n",
       "      <td>26756.086207</td>\n",
       "      <td>1611.017241</td>\n",
       "      <td>7007.428571</td>\n",
       "      <td>20070.724138</td>\n",
       "      <td>3288.086207</td>\n",
       "      <td>396.230806</td>\n",
       "      <td>2.258534e+05</td>\n",
       "      <td>4897.454545</td>\n",
       "      <td>4.458248</td>\n",
       "      <td>7.676194e+07</td>\n",
       "      <td>3.844828</td>\n",
       "      <td>3894.186870</td>\n",
       "      <td>14.342541</td>\n",
       "    </tr>\n",
       "    <tr>\n",
       "      <th>std</th>\n",
       "      <td>16.886879</td>\n",
       "      <td>10.694329</td>\n",
       "      <td>48.873770</td>\n",
       "      <td>52562.031122</td>\n",
       "      <td>4084.750891</td>\n",
       "      <td>9901.304545</td>\n",
       "      <td>41294.705318</td>\n",
       "      <td>17408.350591</td>\n",
       "      <td>395.554852</td>\n",
       "      <td>2.934948e+05</td>\n",
       "      <td>9879.577790</td>\n",
       "      <td>2.116191</td>\n",
       "      <td>2.378302e+07</td>\n",
       "      <td>0.720665</td>\n",
       "      <td>1898.951207</td>\n",
       "      <td>3.781861</td>\n",
       "    </tr>\n",
       "    <tr>\n",
       "      <th>min</th>\n",
       "      <td>0.000000</td>\n",
       "      <td>-14.271000</td>\n",
       "      <td>-170.132000</td>\n",
       "      <td>0.000000</td>\n",
       "      <td>0.000000</td>\n",
       "      <td>13.000000</td>\n",
       "      <td>0.000000</td>\n",
       "      <td>1.000000</td>\n",
       "      <td>0.000000</td>\n",
       "      <td>1.240000e+02</td>\n",
       "      <td>65.000000</td>\n",
       "      <td>0.000000</td>\n",
       "      <td>1.600000e+01</td>\n",
       "      <td>0.000000</td>\n",
       "      <td>97.702058</td>\n",
       "      <td>6.778043</td>\n",
       "    </tr>\n",
       "    <tr>\n",
       "      <th>25%</th>\n",
       "      <td>14.250000</td>\n",
       "      <td>34.872800</td>\n",
       "      <td>-99.697700</td>\n",
       "      <td>2596.000000</td>\n",
       "      <td>74.000000</td>\n",
       "      <td>1281.750000</td>\n",
       "      <td>812.500000</td>\n",
       "      <td>18.250000</td>\n",
       "      <td>154.909239</td>\n",
       "      <td>4.745000e+04</td>\n",
       "      <td>1454.500000</td>\n",
       "      <td>3.116158</td>\n",
       "      <td>8.400001e+07</td>\n",
       "      <td>4.000000</td>\n",
       "      <td>2741.843521</td>\n",
       "      <td>12.829963</td>\n",
       "    </tr>\n",
       "    <tr>\n",
       "      <th>50%</th>\n",
       "      <td>28.500000</td>\n",
       "      <td>38.978600</td>\n",
       "      <td>-86.797300</td>\n",
       "      <td>10148.500000</td>\n",
       "      <td>385.000000</td>\n",
       "      <td>4987.000000</td>\n",
       "      <td>5644.500000</td>\n",
       "      <td>32.500000</td>\n",
       "      <td>259.009335</td>\n",
       "      <td>1.433085e+05</td>\n",
       "      <td>4897.454545</td>\n",
       "      <td>4.409323</td>\n",
       "      <td>8.400003e+07</td>\n",
       "      <td>4.000000</td>\n",
       "      <td>3501.526835</td>\n",
       "      <td>14.342541</td>\n",
       "    </tr>\n",
       "    <tr>\n",
       "      <th>75%</th>\n",
       "      <td>42.750000</td>\n",
       "      <td>42.214075</td>\n",
       "      <td>-77.072550</td>\n",
       "      <td>29395.500000</td>\n",
       "      <td>1394.250000</td>\n",
       "      <td>7007.428571</td>\n",
       "      <td>19291.250000</td>\n",
       "      <td>47.750000</td>\n",
       "      <td>462.828082</td>\n",
       "      <td>2.646656e+05</td>\n",
       "      <td>4897.454545</td>\n",
       "      <td>5.450908</td>\n",
       "      <td>8.400004e+07</td>\n",
       "      <td>4.000000</td>\n",
       "      <td>4622.586404</td>\n",
       "      <td>15.552021</td>\n",
       "    </tr>\n",
       "    <tr>\n",
       "      <th>max</th>\n",
       "      <td>57.000000</td>\n",
       "      <td>61.370700</td>\n",
       "      <td>145.673900</td>\n",
       "      <td>354370.000000</td>\n",
       "      <td>28636.000000</td>\n",
       "      <td>61886.000000</td>\n",
       "      <td>263848.000000</td>\n",
       "      <td>99999.000000</td>\n",
       "      <td>1821.620216</td>\n",
       "      <td>1.505836e+06</td>\n",
       "      <td>76410.000000</td>\n",
       "      <td>9.545549</td>\n",
       "      <td>8.410000e+07</td>\n",
       "      <td>5.000000</td>\n",
       "      <td>11377.424693</td>\n",
       "      <td>28.054438</td>\n",
       "    </tr>\n",
       "  </tbody>\n",
       "</table>\n",
       "</div>"
      ],
      "text/plain": [
       "       Province_State        Lat       Long_      Confirmed        Deaths  \\\n",
       "count       58.000000  58.000000   58.000000      58.000000     58.000000   \n",
       "mean        28.500000  36.840089  -85.206614   26756.086207   1611.017241   \n",
       "std         16.886879  10.694329   48.873770   52562.031122   4084.750891   \n",
       "min          0.000000 -14.271000 -170.132000       0.000000      0.000000   \n",
       "25%         14.250000  34.872800  -99.697700    2596.000000     74.000000   \n",
       "50%         28.500000  38.978600  -86.797300   10148.500000    385.000000   \n",
       "75%         42.750000  42.214075  -77.072550   29395.500000   1394.250000   \n",
       "max         57.000000  61.370700  145.673900  354370.000000  28636.000000   \n",
       "\n",
       "          Recovered         Active          FIPS  Incident_Rate  \\\n",
       "count     58.000000      58.000000     58.000000      58.000000   \n",
       "mean    7007.428571   20070.724138   3288.086207     396.230806   \n",
       "std     9901.304545   41294.705318  17408.350591     395.554852   \n",
       "min       13.000000       0.000000      1.000000       0.000000   \n",
       "25%     1281.750000     812.500000     18.250000     154.909239   \n",
       "50%     4987.000000    5644.500000     32.500000     259.009335   \n",
       "75%     7007.428571   19291.250000     47.750000     462.828082   \n",
       "max    61886.000000  263848.000000  99999.000000    1821.620216   \n",
       "\n",
       "       People_Tested  People_Hospitalized  Mortality_Rate           UID  \\\n",
       "count   5.800000e+01            58.000000       58.000000  5.800000e+01   \n",
       "mean    2.258534e+05          4897.454545        4.458248  7.676194e+07   \n",
       "std     2.934948e+05          9879.577790        2.116191  2.378302e+07   \n",
       "min     1.240000e+02            65.000000        0.000000  1.600000e+01   \n",
       "25%     4.745000e+04          1454.500000        3.116158  8.400001e+07   \n",
       "50%     1.433085e+05          4897.454545        4.409323  8.400003e+07   \n",
       "75%     2.646656e+05          4897.454545        5.450908  8.400004e+07   \n",
       "max     1.505836e+06         76410.000000        9.545549  8.410000e+07   \n",
       "\n",
       "            ISO3  Testing_Rate  Hospitalization_Rate  \n",
       "count  58.000000     58.000000             58.000000  \n",
       "mean    3.844828   3894.186870             14.342541  \n",
       "std     0.720665   1898.951207              3.781861  \n",
       "min     0.000000     97.702058              6.778043  \n",
       "25%     4.000000   2741.843521             12.829963  \n",
       "50%     4.000000   3501.526835             14.342541  \n",
       "75%     4.000000   4622.586404             15.552021  \n",
       "max     5.000000  11377.424693             28.054438  "
      ]
     },
     "execution_count": 221,
     "metadata": {},
     "output_type": "execute_result"
    }
   ],
   "source": [
    "df.describe()"
   ]
  },
  {
   "cell_type": "code",
   "execution_count": 222,
   "metadata": {},
   "outputs": [
    {
     "data": {
      "text/plain": [
       "Province_State             AxesSubplot(0.125,0.772143;0.110714x0.107857)\n",
       "Lat                     AxesSubplot(0.257857,0.772143;0.110714x0.107857)\n",
       "Long_                   AxesSubplot(0.390714,0.772143;0.110714x0.107857)\n",
       "Confirmed               AxesSubplot(0.523571,0.772143;0.110714x0.107857)\n",
       "Deaths                  AxesSubplot(0.656429,0.772143;0.110714x0.107857)\n",
       "Recovered               AxesSubplot(0.789286,0.772143;0.110714x0.107857)\n",
       "Active                     AxesSubplot(0.125,0.642714;0.110714x0.107857)\n",
       "FIPS                    AxesSubplot(0.257857,0.642714;0.110714x0.107857)\n",
       "Incident_Rate           AxesSubplot(0.390714,0.642714;0.110714x0.107857)\n",
       "People_Tested           AxesSubplot(0.523571,0.642714;0.110714x0.107857)\n",
       "People_Hospitalized     AxesSubplot(0.656429,0.642714;0.110714x0.107857)\n",
       "Mortality_Rate          AxesSubplot(0.789286,0.642714;0.110714x0.107857)\n",
       "UID                        AxesSubplot(0.125,0.513286;0.110714x0.107857)\n",
       "ISO3                    AxesSubplot(0.257857,0.513286;0.110714x0.107857)\n",
       "Testing_Rate            AxesSubplot(0.390714,0.513286;0.110714x0.107857)\n",
       "Hospitalization_Rate    AxesSubplot(0.523571,0.513286;0.110714x0.107857)\n",
       "dtype: object"
      ]
     },
     "execution_count": 222,
     "metadata": {},
     "output_type": "execute_result"
    },
    {
     "data": {
      "image/png": "[encoded data removed]",
      "text/plain": [
       "<Figure size 864x864 with 36 Axes>"
      ]
     },
     "metadata": {
      "needs_background": "light"
     },
     "output_type": "display_data"
    }
   ],
   "source": [
    "df.plot(kind='box',subplots=True,layout=(6,6),figsize=(12,12))"
   ]
  },
  {
   "cell_type": "code",
   "execution_count": null,
   "metadata": {},
   "outputs": [],
   "source": [
    "#oultiers seems to be present in most the columns"
   ]
  },
  {
   "cell_type": "code",
   "execution_count": 223,
   "metadata": {},
   "outputs": [
    {
     "data": {
      "text/plain": [
       "(58, 16)"
      ]
     },
     "execution_count": 223,
     "metadata": {},
     "output_type": "execute_result"
    }
   ],
   "source": [
    "from scipy.stats import zscore\n",
    "z=np.abs(zscore(df))\n",
    "z.shape\n"
   ]
  },
  {
   "cell_type": "code",
   "execution_count": 224,
   "metadata": {},
   "outputs": [
    {
     "name": "stdout",
     "output_type": "stream",
     "text": [
      "(58, 16)\n",
      "(46, 16)\n"
     ]
    }
   ],
   "source": [
    "threshold=3\n",
    "df_new=df[(z<3).all(axis=1)]\n",
    "print(df.shape)\n",
    "print(df_new.shape)"
   ]
  },
  {
   "cell_type": "code",
   "execution_count": 225,
   "metadata": {},
   "outputs": [
    {
     "data": {
      "text/plain": [
       "20.689655172413794"
      ]
     },
     "execution_count": 225,
     "metadata": {},
     "output_type": "execute_result"
    }
   ],
   "source": [
    "Percentage_Loss_data=(((58-46)/58)*100)\n",
    "Percentage_Loss_data"
   ]
  },
  {
   "cell_type": "code",
   "execution_count": null,
   "metadata": {},
   "outputs": [],
   "source": [
    "#removing the outliers as the data is widely discpersed"
   ]
  },
  {
   "cell_type": "code",
   "execution_count": 263,
   "metadata": {},
   "outputs": [
    {
     "data": {
      "text/plain": [
       "Province_State         -0.006325\n",
       "Lat                     0.276390\n",
       "Long_                  -1.452557\n",
       "Confirmed               1.916809\n",
       "Deaths                  2.182344\n",
       "Recovered               2.386170\n",
       "Active                  2.432932\n",
       "FIPS                    0.004318\n",
       "Incident_Rate           1.705832\n",
       "People_Tested           1.769735\n",
       "People_Hospitalized     0.321958\n",
       "Mortality_Rate          0.397815\n",
       "UID                     0.004318\n",
       "ISO3                    0.000000\n",
       "Testing_Rate            1.281475\n",
       "Hospitalization_Rate    0.163926\n",
       "dtype: float64"
      ]
     },
     "execution_count": 263,
     "metadata": {},
     "output_type": "execute_result"
    }
   ],
   "source": [
    "df_new.skew()"
   ]
  },
  {
   "cell_type": "code",
   "execution_count": null,
   "metadata": {},
   "outputs": [],
   "source": [
    "# the dataset seems to skewed\n",
    "#splitting the dataset into x and y "
   ]
  },
  {
   "cell_type": "code",
   "execution_count": 264,
   "metadata": {},
   "outputs": [
    {
     "data": {
      "text/html": [
       "<div>\n",
       "<style scoped>\n",
       "    .dataframe tbody tr th:only-of-type {\n",
       "        vertical-align: middle;\n",
       "    }\n",
       "\n",
       "    .dataframe tbody tr th {\n",
       "        vertical-align: top;\n",
       "    }\n",
       "\n",
       "    .dataframe thead th {\n",
       "        text-align: right;\n",
       "    }\n",
       "</style>\n",
       "<table border=\"1\" class=\"dataframe\">\n",
       "  <thead>\n",
       "    <tr style=\"text-align: right;\">\n",
       "      <th></th>\n",
       "      <th>Province_State</th>\n",
       "      <th>Lat</th>\n",
       "      <th>Long_</th>\n",
       "      <th>Confirmed</th>\n",
       "      <th>Deaths</th>\n",
       "      <th>Active</th>\n",
       "      <th>FIPS</th>\n",
       "      <th>Incident_Rate</th>\n",
       "      <th>People_Tested</th>\n",
       "      <th>People_Hospitalized</th>\n",
       "      <th>Mortality_Rate</th>\n",
       "      <th>UID</th>\n",
       "      <th>ISO3</th>\n",
       "      <th>Testing_Rate</th>\n",
       "      <th>Hospitalization_Rate</th>\n",
       "    </tr>\n",
       "  </thead>\n",
       "  <tbody>\n",
       "    <tr>\n",
       "      <th>0</th>\n",
       "      <td>0</td>\n",
       "      <td>32.3182</td>\n",
       "      <td>-86.9023</td>\n",
       "      <td>13052</td>\n",
       "      <td>522</td>\n",
       "      <td>12530.0</td>\n",
       "      <td>1</td>\n",
       "      <td>266.194321</td>\n",
       "      <td>164450.0</td>\n",
       "      <td>1493.000000</td>\n",
       "      <td>3.999387</td>\n",
       "      <td>84000001</td>\n",
       "      <td>4</td>\n",
       "      <td>3353.942386</td>\n",
       "      <td>11.438860</td>\n",
       "    </tr>\n",
       "    <tr>\n",
       "      <th>1</th>\n",
       "      <td>1</td>\n",
       "      <td>61.3707</td>\n",
       "      <td>-152.4044</td>\n",
       "      <td>401</td>\n",
       "      <td>10</td>\n",
       "      <td>39.0</td>\n",
       "      <td>2</td>\n",
       "      <td>54.815493</td>\n",
       "      <td>37045.0</td>\n",
       "      <td>4897.454545</td>\n",
       "      <td>2.493766</td>\n",
       "      <td>84000002</td>\n",
       "      <td>4</td>\n",
       "      <td>5063.940017</td>\n",
       "      <td>14.342541</td>\n",
       "    </tr>\n",
       "    <tr>\n",
       "      <th>3</th>\n",
       "      <td>3</td>\n",
       "      <td>33.7298</td>\n",
       "      <td>-111.4312</td>\n",
       "      <td>14906</td>\n",
       "      <td>747</td>\n",
       "      <td>10386.0</td>\n",
       "      <td>4</td>\n",
       "      <td>204.788838</td>\n",
       "      <td>165435.0</td>\n",
       "      <td>1792.000000</td>\n",
       "      <td>5.011405</td>\n",
       "      <td>84000004</td>\n",
       "      <td>4</td>\n",
       "      <td>2272.859351</td>\n",
       "      <td>12.022005</td>\n",
       "    </tr>\n",
       "    <tr>\n",
       "      <th>4</th>\n",
       "      <td>4</td>\n",
       "      <td>34.9697</td>\n",
       "      <td>-92.3731</td>\n",
       "      <td>5003</td>\n",
       "      <td>107</td>\n",
       "      <td>1044.0</td>\n",
       "      <td>5</td>\n",
       "      <td>165.782801</td>\n",
       "      <td>96258.0</td>\n",
       "      <td>535.000000</td>\n",
       "      <td>2.138717</td>\n",
       "      <td>84000005</td>\n",
       "      <td>4</td>\n",
       "      <td>3189.670370</td>\n",
       "      <td>10.693584</td>\n",
       "    </tr>\n",
       "    <tr>\n",
       "      <th>6</th>\n",
       "      <td>6</td>\n",
       "      <td>39.0598</td>\n",
       "      <td>-105.3111</td>\n",
       "      <td>22797</td>\n",
       "      <td>1299</td>\n",
       "      <td>18020.0</td>\n",
       "      <td>8</td>\n",
       "      <td>395.868121</td>\n",
       "      <td>131837.0</td>\n",
       "      <td>3955.000000</td>\n",
       "      <td>5.698118</td>\n",
       "      <td>84000008</td>\n",
       "      <td>4</td>\n",
       "      <td>2289.339188</td>\n",
       "      <td>17.348774</td>\n",
       "    </tr>\n",
       "  </tbody>\n",
       "</table>\n",
       "</div>"
      ],
      "text/plain": [
       "   Province_State      Lat     Long_  Confirmed  Deaths   Active  FIPS  \\\n",
       "0               0  32.3182  -86.9023      13052     522  12530.0     1   \n",
       "1               1  61.3707 -152.4044        401      10     39.0     2   \n",
       "3               3  33.7298 -111.4312      14906     747  10386.0     4   \n",
       "4               4  34.9697  -92.3731       5003     107   1044.0     5   \n",
       "6               6  39.0598 -105.3111      22797    1299  18020.0     8   \n",
       "\n",
       "   Incident_Rate  People_Tested  People_Hospitalized  Mortality_Rate  \\\n",
       "0     266.194321       164450.0          1493.000000        3.999387   \n",
       "1      54.815493        37045.0          4897.454545        2.493766   \n",
       "3     204.788838       165435.0          1792.000000        5.011405   \n",
       "4     165.782801        96258.0           535.000000        2.138717   \n",
       "6     395.868121       131837.0          3955.000000        5.698118   \n",
       "\n",
       "        UID  ISO3  Testing_Rate  Hospitalization_Rate  \n",
       "0  84000001     4   3353.942386             11.438860  \n",
       "1  84000002     4   5063.940017             14.342541  \n",
       "3  84000004     4   2272.859351             12.022005  \n",
       "4  84000005     4   3189.670370             10.693584  \n",
       "6  84000008     4   2289.339188             17.348774  "
      ]
     },
     "execution_count": 264,
     "metadata": {},
     "output_type": "execute_result"
    }
   ],
   "source": [
    "x=df_new.drop('Recovered',axis=1)\n",
    "x.head()"
   ]
  },
  {
   "cell_type": "code",
   "execution_count": 265,
   "metadata": {},
   "outputs": [
    {
     "data": {
      "text/plain": [
       "0    7007.428571\n",
       "1     352.000000\n",
       "3    3773.000000\n",
       "4    3852.000000\n",
       "6    3478.000000\n",
       "Name: Recovered, dtype: float64"
      ]
     },
     "execution_count": 265,
     "metadata": {},
     "output_type": "execute_result"
    }
   ],
   "source": [
    "y=df_new.Recovered\n",
    "y.head()"
   ]
  },
  {
   "cell_type": "code",
   "execution_count": 266,
   "metadata": {},
   "outputs": [],
   "source": [
    "from sklearn.preprocessing import power_transform\n",
    "x=power_transform(x,method='yeo-johnson')"
   ]
  },
  {
   "cell_type": "code",
   "execution_count": null,
   "metadata": {},
   "outputs": [],
   "source": [
    "#removing the skewness through power transform"
   ]
  },
  {
   "cell_type": "code",
   "execution_count": 267,
   "metadata": {},
   "outputs": [],
   "source": [
    "from sklearn.preprocessing import StandardScaler\n",
    "sc=StandardScaler()\n",
    "x=sc.fit_transform(x)\n"
   ]
  },
  {
   "cell_type": "code",
   "execution_count": null,
   "metadata": {},
   "outputs": [],
   "source": [
    "#scaling the data"
   ]
  },
  {
   "cell_type": "code",
   "execution_count": 268,
   "metadata": {},
   "outputs": [],
   "source": [
    "#Importing all the model Library\n",
    "from sklearn.linear_model import LinearRegression,Lasso,Ridge,ElasticNet\n",
    "from sklearn.svm import SVR\n",
    "from sklearn.tree import DecisionTreeRegressor\n",
    "from sklearn.neighbors import KNeighborsRegressor\n",
    "\n",
    "#Importing all the Boosting models\n",
    "from sklearn.ensemble import RandomForestRegressor\n",
    "from sklearn.ensemble import AdaBoostRegressor\n",
    "from sklearn.ensemble import GradientBoostingRegressor\n",
    "\n",
    "#Importing error metrics\n",
    "from sklearn.model_selection import GridSearchCV,cross_val_score\n",
    "from sklearn.metrics import mean_absolute_error,mean_squared_error,r2_score"
   ]
  },
  {
   "cell_type": "code",
   "execution_count": 269,
   "metadata": {},
   "outputs": [
    {
     "name": "stdout",
     "output_type": "stream",
     "text": [
      "Best accuracy 84.6651983615575 found on random state 138\n"
     ]
    }
   ],
   "source": [
    "best_rstate=0\n",
    "accu=0\n",
    "for i in range(30,200):\n",
    "    x_train,x_test,y_train,y_test=train_test_split(x,y,test_size=.20,random_state=i)\n",
    "    lr=LinearRegression()\n",
    "    lr.fit(x_train,y_train)\n",
    "    y_pred=lr.predict(x_test)\n",
    "    tempaccu=r2_score(y_test,y_pred)\n",
    "    if tempaccu>accu:\n",
    "        accu=tempaccu\n",
    "        best_rstate=i\n",
    "        \n",
    "print(f\"Best accuracy {accu*100} found on random state {best_rstate}\")"
   ]
  },
  {
   "cell_type": "code",
   "execution_count": null,
   "metadata": {},
   "outputs": [],
   "source": [
    "#the random state is 138 with score of 84 with linear regression"
   ]
  },
  {
   "cell_type": "code",
   "execution_count": 270,
   "metadata": {},
   "outputs": [],
   "source": [
    "x_train,x_test,y_train,y_test=train_test_split(x,y,test_size=.20,random_state=138)"
   ]
  },
  {
   "cell_type": "code",
   "execution_count": null,
   "metadata": {},
   "outputs": [],
   "source": [
    "#splitting the dataset into 80, 2o ratio with best random state 138\n",
    "#checking the shapes below"
   ]
  },
  {
   "cell_type": "code",
   "execution_count": 271,
   "metadata": {},
   "outputs": [
    {
     "name": "stdout",
     "output_type": "stream",
     "text": [
      "(36, 15) \t\t (10, 15)\n"
     ]
    }
   ],
   "source": [
    "print(x_train.shape,'\\t\\t',x_test.shape)"
   ]
  },
  {
   "cell_type": "code",
   "execution_count": 272,
   "metadata": {},
   "outputs": [
    {
     "name": "stdout",
     "output_type": "stream",
     "text": [
      "(36,) \t\t (10,)\n"
     ]
    }
   ],
   "source": [
    "print(y_train.shape,'\\t\\t',y_test.shape)"
   ]
  },
  {
   "cell_type": "code",
   "execution_count": 273,
   "metadata": {},
   "outputs": [
    {
     "name": "stdout",
     "output_type": "stream",
     "text": [
      "Score of  LinearRegression() is:\n",
      "MAE : 1401.3181178927714\n",
      "MSE : 2813363.0120776454\n",
      "RSME : 1677.3082638792564\n",
      "R2_score : 84.6651983615575\n",
      "**************************************************\n",
      "\n",
      "\n",
      "Score of  SVR() is:\n",
      "MAE : 3856.5459027515126\n",
      "MSE : 18400117.089369737\n",
      "RSME : 4289.535766183764\n",
      "R2_score : -0.2935435200828618\n",
      "**************************************************\n",
      "\n",
      "\n",
      "Score of  DecisionTreeRegressor() is:\n",
      "MAE : 1318.9428571428573\n",
      "MSE : 3258927.032653061\n",
      "RSME : 1805.2498532483146\n",
      "R2_score : 82.23656194193491\n",
      "**************************************************\n",
      "\n",
      "\n",
      "Score of  KNeighborsRegressor() is:\n",
      "MAE : 2169.2057142857143\n",
      "MSE : 7563940.630040817\n",
      "RSME : 2750.2619202615624\n",
      "R2_score : 58.77121840705054\n",
      "**************************************************\n",
      "\n",
      "\n",
      "Score of  Lasso() is:\n",
      "MAE : 1304.299167427373\n",
      "MSE : 2683806.7823406835\n",
      "RSME : 1638.232822995768\n",
      "R2_score : 85.37137068113087\n",
      "**************************************************\n",
      "\n",
      "\n",
      "Score of  Ridge() is:\n",
      "MAE : 1355.6154349784836\n",
      "MSE : 2611499.9238063833\n",
      "RSME : 1616.013590229483\n",
      "R2_score : 85.76549377436923\n",
      "**************************************************\n",
      "\n",
      "\n",
      "Score of  ElasticNet() is:\n",
      "MAE : 2141.0777262560805\n",
      "MSE : 5947540.067929821\n",
      "RSME : 2438.757894488467\n",
      "R2_score : 67.58173517357827\n",
      "**************************************************\n",
      "\n",
      "\n",
      "Score of  RandomForestRegressor() is:\n",
      "MAE : 1428.7042857142867\n",
      "MSE : 3498029.2234689845\n",
      "RSME : 1870.301907037734\n",
      "R2_score : 80.93328730167741\n",
      "**************************************************\n",
      "\n",
      "\n",
      "Score of  AdaBoostRegressor() is:\n",
      "MAE : 1587.9233333333336\n",
      "MSE : 5416936.987276646\n",
      "RSME : 2327.4314140864917\n",
      "R2_score : 70.47389411489957\n",
      "**************************************************\n",
      "\n",
      "\n",
      "Score of  GradientBoostingRegressor() is:\n",
      "MAE : 1505.5270922104787\n",
      "MSE : 3988561.325036241\n",
      "RSME : 1997.1382839043072\n",
      "R2_score : 78.2595433011593\n",
      "**************************************************\n",
      "\n",
      "\n"
     ]
    }
   ],
   "source": [
    "model=[LinearRegression(),SVR(),DecisionTreeRegressor(),KNeighborsRegressor(),Lasso(),Ridge(),ElasticNet(),\n",
    "       RandomForestRegressor(),AdaBoostRegressor(),GradientBoostingRegressor()]\n",
    "\n",
    "for m in model:\n",
    "    m.fit(x_train,y_train)\n",
    "    score=m.score(x_train,y_train)\n",
    "    predm=m.predict(x_test)\n",
    "    print('Score of ',m,'is:')\n",
    "    print('MAE :',mean_absolute_error(y_test,predm))\n",
    "    print('MSE :',mean_squared_error(y_test,predm))\n",
    "    print('RSME :',np.sqrt(mean_squared_error(y_test,predm)))\n",
    "    print('R2_score :',r2_score(y_test,predm)*100)\n",
    "    print('**************************************************')\n",
    "    print('\\n')"
   ]
  },
  {
   "cell_type": "code",
   "execution_count": 274,
   "metadata": {},
   "outputs": [
    {
     "name": "stdout",
     "output_type": "stream",
     "text": [
      "Model: LinearRegression()\n",
      "Score: [-12.75652241  -0.32704716   0.36766116   0.69774958   0.6222501\n",
      "   0.1550968   -1.14999152  -0.15975631   0.51458635  -1.38508822]\n",
      "Mean Score: -1.3421061621146178\n",
      "Standard Deviation: 3.8650728955037534\n",
      "**************************************************\n",
      "\n",
      "\n",
      "Model: SVR()\n",
      "Score: [-1.53339629e-01 -3.17909918e-02 -3.86715786e-02 -1.50092215e-01\n",
      " -5.84909996e-01  6.88252111e-04 -1.70166164e-01 -7.10740067e-01\n",
      " -2.49760496e-01 -6.48147612e-03]\n",
      "Mean Score: -0.20952643611510186\n",
      "Standard Deviation: 0.23413330750357783\n",
      "**************************************************\n",
      "\n",
      "\n",
      "Model: DecisionTreeRegressor()\n",
      "Score: [-6.19074216e-01 -2.63315962e+01  7.03587817e-01  5.03263380e-01\n",
      "  8.57131462e-01  9.33898987e-01  2.47710679e-02  2.14192716e-01\n",
      "  1.48687767e-02  4.55972873e-01]\n",
      "Mean Score: -2.3242983354835007\n",
      "Standard Deviation: 8.014501611032394\n",
      "**************************************************\n",
      "\n",
      "\n",
      "Model: KNeighborsRegressor()\n",
      "Score: [ 0.07017241 -2.0981101  -0.67297477  0.39799383  0.14584523  0.0171508\n",
      " -0.0592191   0.25877763  0.06374008  0.88016988]\n",
      "Mean Score: -0.09964540997039742\n",
      "Standard Deviation: 0.7609068124990289\n",
      "**************************************************\n",
      "\n",
      "\n",
      "Model: Lasso()\n",
      "Score: [-4.89004431 -0.51834347  0.39306978  0.69829313  0.60247167  0.1255847\n",
      " -1.24861056 -0.01288431  0.52122002 -1.18905055]\n",
      "Mean Score: -0.5518293884428062\n",
      "Standard Deviation: 1.5937886679529494\n",
      "**************************************************\n",
      "\n",
      "\n",
      "Model: Ridge()\n",
      "Score: [-1.54332802 -0.05970902  0.44101425  0.58027656  0.39083619  0.09526652\n",
      " -0.7399291   0.48419992  0.44870537  0.26247047]\n",
      "Mean Score: 0.03598031461961948\n",
      "Standard Deviation: 0.6416927376027816\n",
      "**************************************************\n",
      "\n",
      "\n",
      "Model: ElasticNet()\n",
      "Score: [-0.60584614 -0.54704663 -0.13034772  0.23144737  0.00669267 -0.04765368\n",
      " -0.17066076  0.20585287  0.17046096  0.29948787]\n",
      "Mean Score: -0.058761318997506154\n",
      "Standard Deviation: 0.2991496508724952\n",
      "**************************************************\n",
      "\n",
      "\n",
      "Model: RandomForestRegressor()\n",
      "Score: [-1.99082098 -5.95540742  0.01894243  0.08799607  0.55475896  0.64853983\n",
      "  0.82758839 -0.87380148  0.1293314   0.58182751]\n",
      "Mean Score: -0.5971045295192072\n",
      "Standard Deviation: 1.9597207064749846\n",
      "**************************************************\n",
      "\n",
      "\n",
      "Model: AdaBoostRegressor()\n",
      "Score: [ -0.48448369 -11.20919563   0.67901256   0.3066913   -0.09590192\n",
      "   0.56449356   0.92700327   0.52107823   0.18047682   0.9283853 ]\n",
      "Mean Score: -0.7682440205556922\n",
      "Standard Deviation: 3.5055256224234124\n",
      "**************************************************\n",
      "\n",
      "\n",
      "Model: GradientBoostingRegressor()\n",
      "Score: [ -0.80911853 -12.25751997  -0.61539473   0.22915577   0.69057418\n",
      "   0.91995414  -1.71806077   0.83642123   0.14125617  -2.14013917]\n",
      "Mean Score: -1.4722871681068557\n",
      "Standard Deviation: 3.731368209198633\n",
      "**************************************************\n",
      "\n",
      "\n"
     ]
    }
   ],
   "source": [
    "model=[LinearRegression(),SVR(),DecisionTreeRegressor(),KNeighborsRegressor(),Lasso(),Ridge(),ElasticNet(),\n",
    "       RandomForestRegressor(),AdaBoostRegressor(),GradientBoostingRegressor()]\n",
    "\n",
    "for m in model:\n",
    "    score=cross_val_score(m,x,y,cv=10,scoring='r2')\n",
    "    print('Model:',m)\n",
    "    print('Score:',score)\n",
    "    print('Mean Score:',score.mean())\n",
    "    print('Standard Deviation:',score.std())\n",
    "    print('**************************************************')\n",
    "    print('\\n')"
   ]
  },
  {
   "cell_type": "code",
   "execution_count": null,
   "metadata": {},
   "outputs": [],
   "source": [
    "#linear regression seems to be give the best accuracy"
   ]
  },
  {
   "cell_type": "code",
   "execution_count": 275,
   "metadata": {},
   "outputs": [],
   "source": [
    "parameters = {\"fit_intercept\":[True,False],\n",
    "              \"n_jobs\":[1,4]\n",
    "             }"
   ]
  },
  {
   "cell_type": "code",
   "execution_count": 276,
   "metadata": {},
   "outputs": [],
   "source": [
    "from sklearn.model_selection import GridSearchCV\n",
    "lr=LinearRegression()"
   ]
  },
  {
   "cell_type": "code",
   "execution_count": 278,
   "metadata": {},
   "outputs": [],
   "source": [
    "lr=LinearRegression()"
   ]
  },
  {
   "cell_type": "code",
   "execution_count": 282,
   "metadata": {},
   "outputs": [
    {
     "name": "stdout",
     "output_type": "stream",
     "text": [
      "{'fit_intercept': True, 'n_jobs': 1}\n"
     ]
    }
   ],
   "source": [
    "clf = GridSearchCV(lr,parameters)\n",
    "clf.fit(x_train,y_train)\n",
    "print(clf.best_params_)"
   ]
  },
  {
   "cell_type": "code",
   "execution_count": 283,
   "metadata": {},
   "outputs": [
    {
     "name": "stdout",
     "output_type": "stream",
     "text": [
      "Final accuracy : 84.6651983615575\n"
     ]
    }
   ],
   "source": [
    "pred=clf.predict(x_test)\n",
    "print(\"Final accuracy :\",r2_score(y_test,pred)*100)"
   ]
  },
  {
   "cell_type": "code",
   "execution_count": null,
   "metadata": {},
   "outputs": [],
   "source": [
    "#Hypertuning the model with GridsearchCV with r2score of 84 percent"
   ]
  },
  {
   "cell_type": "code",
   "execution_count": 284,
   "metadata": {},
   "outputs": [],
   "source": [
    "import joblib\n",
    "filename='model.pkl'\n",
    "joblib.dump(clf,open(filename,'wb'))"
   ]
  },
  {
   "cell_type": "code",
   "execution_count": null,
   "metadata": {},
   "outputs": [],
   "source": [
    "#saving the model"
   ]
  },
  {
   "cell_type": "code",
   "execution_count": null,
   "metadata": {},
   "outputs": [],
   "source": []
  }
 ],
 "metadata": {
  "kernelspec": {
   "display_name": "Python 3",
   "language": "python",
   "name": "python3"
  },
  "language_info": {
   "codemirror_mode": {
    "name": "ipython",
    "version": 3
   },
   "file_extension": ".py",
   "mimetype": "text/x-python",
   "name": "python",
   "nbconvert_exporter": "python",
   "pygments_lexer": "ipython3",
   "version": "3.8.5"
  }
 },
 "nbformat": 4,
 "nbformat_minor": 4
}
