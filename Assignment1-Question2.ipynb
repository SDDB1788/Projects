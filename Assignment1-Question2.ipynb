{
 "cells": [
  {
   "cell_type": "markdown",
   "metadata": {},
   "source": [
    "To scrape data for “Data Scientist” Job position in “Bangalore” location.( scrape first 10 jobs data)\n",
    "Scrap:-\n",
    "1. Job title\n",
    "2. job-location\n",
    "3.company_name\n",
    "4.full job-description"
   ]
  },
  {
   "cell_type": "code",
   "execution_count": 6,
   "metadata": {},
   "outputs": [],
   "source": [
    "import pandas as pd\n",
    "import selenium\n",
    "from selenium import webdriver"
   ]
  },
  {
   "cell_type": "code",
   "execution_count": 7,
   "metadata": {},
   "outputs": [],
   "source": [
    "driver = webdriver.Chrome()"
   ]
  },
  {
   "cell_type": "code",
   "execution_count": 12,
   "metadata": {},
   "outputs": [],
   "source": [
    "driver.get('https://www.naukri.com/')"
   ]
  },
  {
   "cell_type": "code",
   "execution_count": 16,
   "metadata": {},
   "outputs": [],
   "source": [
    "search_job=driver.find_element_by_xpath(\"//input[@id='qsb-keyword-sugg']\")\n",
    "search_job.send_keys('Data Scientist')\n",
    "search_loc=driver.find_element_by_xpath(\"//input[@id='qsb-location-sugg']\")\n",
    "search_loc.send_keys('Bangalore')\n",
    "search_btn=driver.find_element_by_xpath(\"//div[@class='search-btn']/button\")\n",
    "search_btn.click()"
   ]
  },
  {
   "cell_type": "code",
   "execution_count": 19,
   "metadata": {},
   "outputs": [],
   "source": [
    "job_title=[]\n",
    "job_loc=[]\n",
    "job_comp=[]\n",
    "for i in driver.find_elements_by_xpath(\"//a[@class='title fw500 ellipsis']\"):\n",
    "    job_title.append(i.text)\n",
    "for m in driver.find_elements_by_xpath(\"//li[@class='fleft grey-text br2 placeHolderLi location']/span[1]\"):\n",
    "    job_loc.append(m.text)\n",
    "for z in driver.find_elements_by_xpath(\"//a[@class='subTitle ellipsis fleft']\"):\n",
    "    job_comp.append(z.text)\n",
    "    \n"
   ]
  },
  {
   "cell_type": "code",
   "execution_count": 20,
   "metadata": {},
   "outputs": [
    {
     "data": {
      "text/plain": [
       "(20, '\\t', 20, '\\t', 20)"
      ]
     },
     "execution_count": 20,
     "metadata": {},
     "output_type": "execute_result"
    }
   ],
   "source": [
    "len(job_title),'\\t',len(job_loc),'\\t',len(job_comp)"
   ]
  },
  {
   "cell_type": "code",
   "execution_count": 99,
   "metadata": {},
   "outputs": [
    {
     "data": {
      "text/html": [
       "<div>\n",
       "<style scoped>\n",
       "    .dataframe tbody tr th:only-of-type {\n",
       "        vertical-align: middle;\n",
       "    }\n",
       "\n",
       "    .dataframe tbody tr th {\n",
       "        vertical-align: top;\n",
       "    }\n",
       "\n",
       "    .dataframe thead th {\n",
       "        text-align: right;\n",
       "    }\n",
       "</style>\n",
       "<table border=\"1\" class=\"dataframe\">\n",
       "  <thead>\n",
       "    <tr style=\"text-align: right;\">\n",
       "      <th></th>\n",
       "      <th>Job</th>\n",
       "      <th>Location</th>\n",
       "      <th>company</th>\n",
       "    </tr>\n",
       "  </thead>\n",
       "  <tbody>\n",
       "    <tr>\n",
       "      <th>0</th>\n",
       "      <td>Data Scientist - Python/ SQL</td>\n",
       "      <td>Bangalore/Bengaluru</td>\n",
       "      <td>Catalyst</td>\n",
       "    </tr>\n",
       "    <tr>\n",
       "      <th>1</th>\n",
       "      <td>Data Scientist - Python/sql</td>\n",
       "      <td>Bangalore/Bengaluru</td>\n",
       "      <td>Catalyst</td>\n",
       "    </tr>\n",
       "    <tr>\n",
       "      <th>2</th>\n",
       "      <td>Data Scientist - Python/r</td>\n",
       "      <td>Bangalore/Bengaluru</td>\n",
       "      <td>Catalyst</td>\n",
       "    </tr>\n",
       "    <tr>\n",
       "      <th>3</th>\n",
       "      <td>Data Scientist - Machine Learning</td>\n",
       "      <td>Bangalore/Bengaluru</td>\n",
       "      <td>Catalyst</td>\n",
       "    </tr>\n",
       "    <tr>\n",
       "      <th>4</th>\n",
       "      <td>Data Scientist</td>\n",
       "      <td>Bangalore/Bengaluru</td>\n",
       "      <td>Vanguard Human Resource Consultant Pvt Ltd</td>\n",
       "    </tr>\n",
       "    <tr>\n",
       "      <th>5</th>\n",
       "      <td>Data Scientist - KPO</td>\n",
       "      <td>Bangalore/Bengaluru</td>\n",
       "      <td>Antrors HR Solutions</td>\n",
       "    </tr>\n",
       "    <tr>\n",
       "      <th>6</th>\n",
       "      <td>Data Scientist - Machine Learning</td>\n",
       "      <td>Bangalore/Bengaluru</td>\n",
       "      <td>AugmatrixGo</td>\n",
       "    </tr>\n",
       "    <tr>\n",
       "      <th>7</th>\n",
       "      <td>Data Scientist - Machine Learning/Python</td>\n",
       "      <td>Bangalore/Bengaluru</td>\n",
       "      <td>Change leaders</td>\n",
       "    </tr>\n",
       "    <tr>\n",
       "      <th>8</th>\n",
       "      <td>Data Scientist</td>\n",
       "      <td>Bangalore/Bengaluru</td>\n",
       "      <td>Narayana Health</td>\n",
       "    </tr>\n",
       "    <tr>\n",
       "      <th>9</th>\n",
       "      <td>Data Scientist</td>\n",
       "      <td>Bangalore/Bengaluru</td>\n",
       "      <td>Narayana Health</td>\n",
       "    </tr>\n",
       "  </tbody>\n",
       "</table>\n",
       "</div>"
      ],
      "text/plain": [
       "                                        Job             Location  \\\n",
       "0              Data Scientist - Python/ SQL  Bangalore/Bengaluru   \n",
       "1               Data Scientist - Python/sql  Bangalore/Bengaluru   \n",
       "2                 Data Scientist - Python/r  Bangalore/Bengaluru   \n",
       "3         Data Scientist - Machine Learning  Bangalore/Bengaluru   \n",
       "4                            Data Scientist  Bangalore/Bengaluru   \n",
       "5                      Data Scientist - KPO  Bangalore/Bengaluru   \n",
       "6         Data Scientist - Machine Learning  Bangalore/Bengaluru   \n",
       "7  Data Scientist - Machine Learning/Python  Bangalore/Bengaluru   \n",
       "8                            Data Scientist  Bangalore/Bengaluru   \n",
       "9                            Data Scientist  Bangalore/Bengaluru   \n",
       "\n",
       "                                      company  \n",
       "0                                    Catalyst  \n",
       "1                                    Catalyst  \n",
       "2                                    Catalyst  \n",
       "3                                    Catalyst  \n",
       "4  Vanguard Human Resource Consultant Pvt Ltd  \n",
       "5                        Antrors HR Solutions  \n",
       "6                                 AugmatrixGo  \n",
       "7                              Change leaders  \n",
       "8                             Narayana Health  \n",
       "9                             Narayana Health  "
      ]
     },
     "execution_count": 99,
     "metadata": {},
     "output_type": "execute_result"
    }
   ],
   "source": [
    "job=pd.DataFrame({})\n",
    "job['Job']=job_title\n",
    "job['Location']=job_loc\n",
    "job['company']=job_comp\n",
    "\n",
    "\n",
    "jb=job[0:10]\n",
    "jb"
   ]
  },
  {
   "cell_type": "code",
   "execution_count": 100,
   "metadata": {},
   "outputs": [],
   "source": [
    "#job description for Data Scientist - Python/ SQL\tCatalyst(first 2 job is same)"
   ]
  },
  {
   "cell_type": "code",
   "execution_count": 101,
   "metadata": {},
   "outputs": [],
   "source": [
    "driver.get('https://www.naukri.com/job-listings-data-scientist-python-sql-catalyst-bangalore-bengaluru-2-to-7-years-030918900823?src=jobsearchDesk&sid=16174453997656054&xp=1&px=1')"
   ]
  },
  {
   "cell_type": "code",
   "execution_count": 102,
   "metadata": {},
   "outputs": [
    {
     "data": {
      "text/plain": [
       "[\"Job description Roles and responsibilities  Job description  Skill: SQL, Python, Business Analysis, Data Science;  Exp: 2-7 years;  Job Description Ensuring quality in crowd sourcing model is the biggest challenge to solve for. Being the first data scientist of the company, you shall be responsible for building robust algorithms ensure quality, from scratch.Responsibilities- Develop models to derive maximum quality from crowd sourced data  Derive insights and identify opportunities through the use of algorithmic, statistical, mining & visualisation techniques- Work closely with engineering to implement aforementioned models Required Candidate profile Requirements  Bachelors or above in Mathematics, Statistics, CS or related fields.  Min. 2 years experience with mathematical modelling, statistical analysis, machine learning, NLP- Must have implemented machine learning based solution which is being used in production  Programming proficiency, preferably with Python, R, SQL, Java and equivalents- Experience of working with relational and non-relational databasesWe're a fast growing startup, looking for talented and ambitious individuals who want to join us on this journey and build awesome things which can change the way work gets done. You shall get,- Complete Ownership, Flexible timings  We deal with millions of data points every day and we can assure you that you will have no dearth of data to work with in this job- Pay as per industry standards. Lucrative stock options.  An awesome office to work in and awesome people to work with- Weekend beer! Munchies on the house ) RoleData Analyst Industry TypeIT-Software, Software Services Functional AreaAnalytics & Business Intelligence Employment TypeFull Time, Permanent Role CategoryAnalytics & BI Education UG :B.Sc in Maths, Statistics, B.Tech/B.E. in Computers, B.A in Statistics, Maths PG :Any Postgraduate in Any Specialization Doctorate :Doctorate Not Required, Any Doctorate in Any Specialization Key Skills Data ScienceJavaRNLPAlgorithmsData ScientistMachine LearningStatistical AnalysisStatisticsPythonSQL\"]"
      ]
     },
     "execution_count": 102,
     "metadata": {},
     "output_type": "execute_result"
    }
   ],
   "source": [
    "fst_des=[]\n",
    "\n",
    "for p in driver.find_elements_by_xpath(\"//section[@class='job-desc']\"):\n",
    "    fst_des.append(p.text.replace(\"\\n\",\" \"))\n",
    "    \n",
    "fst_des"
   ]
  },
  {
   "cell_type": "markdown",
   "metadata": {},
   "source": [
    "3rd jd- Data Scientist - Python/r-Catalyst"
   ]
  },
  {
   "cell_type": "code",
   "execution_count": 103,
   "metadata": {},
   "outputs": [],
   "source": [
    "driver.get(\"https://www.naukri.com/job-listings-data-scientist-python-r-catalyst-bangalore-bengaluru-2-to-6-years-240320902966?src=jobsearchDesk&sid=1617447798292454&xp=3&px=1\")"
   ]
  },
  {
   "cell_type": "code",
   "execution_count": 104,
   "metadata": {},
   "outputs": [
    {
     "data": {
      "text/plain": [
       "[\"Job description What You'll Do :  - Leverage data to perform intensive analysis across all areas of our business to catalyze product development  - Design experiments and interpret the results to draw detailed and actionable conclusions  - Generate and execute on ideas for exploratory analysis to shape future projects and provide recommendations for actions  - Perform time-series analyses, hypothesis testing, and causal analyses to statistically assess relative impact and extract trends  - Create models to enhance understanding of user behavior and predict future performance of cohorts  - Create dashboards and reports to regularly communicate results and monitor key metrics  - Present findings to senior management to guide business decisions  - Collaborate with cross-functional teams across disciplines such as product, engineering, operations, and marketing  Required Candidate profile What You'll Need :  - 3-5 years of experience in a quantitative analysis role  - BE/BS/MS in Physics, Economics, Applied Math, Statistics, Engineering, Computer Science, or other quantitative field (advanced degrees are a plus)  - Comfortable writing code and contributing to a code base in Python or R  - Proficient in writing and understanding complex SQL; experience working with large data sets  - Advanced knowledge of experimentation and statistical methods  - Ability to deliver on tight timelines and move quickly while maintaining attention to detail  - Collaborate closely with cross-functional teams to execute on decisions  - Self-driven and proactive with the ability to work in a self-guided manner  - Excellent communication and organization skills RoleData Analyst Industry TypeIT-Software, Software Services Functional AreaAnalytics & Business Intelligence Employment TypeFull Time, Permanent Role CategoryAnalytics & BI Education UG :B.Tech/B.E. in Computers, B.Sc in Other Specialization, Physics, Statistics PG :MS/M.Sc(Science) in Physics, Computers, Statistics Doctorate :Doctorate Not Required Key Skills Data ScienceRData ScientistData Managementproduct developmentPythonSQL\"]"
      ]
     },
     "execution_count": 104,
     "metadata": {},
     "output_type": "execute_result"
    }
   ],
   "source": [
    "jd=[]\n",
    "for i in driver.find_elements_by_xpath(\"//section[@class='job-desc']\"):\n",
    "    jd.append(i.text.replace(\"\\n\",\" \"))\n",
    "    \n",
    "jd\n"
   ]
  },
  {
   "cell_type": "markdown",
   "metadata": {},
   "source": [
    "4th JD\n",
    "Data Scientist - KPO\n",
    "Antrors HR Solutions"
   ]
  },
  {
   "cell_type": "code",
   "execution_count": 105,
   "metadata": {},
   "outputs": [],
   "source": [
    "driver.get(\"https://www.naukri.com/job-listings-data-scientist-kpo-antrors-hr-solutions-bangalore-bengaluru-2-to-5-years-190620902010?src=jobsearchDesk&sid=161744894997028&xp=4&px=1\")"
   ]
  },
  {
   "cell_type": "code",
   "execution_count": 106,
   "metadata": {},
   "outputs": [
    {
     "data": {
      "text/plain": [
       "['Job description Responsibilities:  - Work with stakeholders throughout the organization to identify opportunities for leveraging company data to drive business solutions.  - Mine and analyze data from company databases to drive optimization and improvement  - Assess the effectiveness and accuracy of new data sources and data gathering techniques.  - Develop custom data models and algorithms to apply to data sets.  - Use predictive modeling to increase and optimize customer experiences, revenue generation, ad targeting and other business outcomes.  - Develop company A/B testing framework and test model quality.  - Coordinate with different functional teams to implement models and monitor outcomes.  - Develop processes and tools to monitor and analyze model performance and data accuracy  Required Candidate profile Qualifications & Experience:  - PG / MBA with 2 to 5 Yrs Experience with strong problem solving skills with an emphasis on product development.  - Experience using statistical computer languages (R, Python, SLQ, etc.) to manipulate data and draw insights from large data sets.  - Experience working with and creating data architectures.  - Knowledge of a variety of machine learning techniques (clustering, decision tree learning, artificial neural networks, etc.) and their real-world advantages/drawbacks.  - Knowledge of advanced statistical techniques and concepts . RoleData Analyst Industry TypeKPO, Research, Analytics Functional AreaAnalytics & Business Intelligence Employment TypeFull Time, Permanent Role CategoryAnalytics & BI Education UG :Any Graduate in Any Specialization PG :MBA/PGDM in Any Specialization Doctorate :Doctorate Not Required Key Skills Data SciencePredictive ModelingNLPData ScientistArtificial IntelligenceData ManagementStatistical ModelingData ModelingMachine LearningPythonSQL']"
      ]
     },
     "execution_count": 106,
     "metadata": {},
     "output_type": "execute_result"
    }
   ],
   "source": [
    "jd=[]\n",
    "for b in driver.find_elements_by_xpath(\"//section[@class='job-desc']\"):\n",
    "    jd.append(b.text.replace(\"\\n\",\" \"))\n",
    "    \n",
    "jd"
   ]
  },
  {
   "cell_type": "raw",
   "metadata": {},
   "source": [
    "# 5th Data Scientist - Machine Learning"
   ]
  },
  {
   "cell_type": "code",
   "execution_count": 107,
   "metadata": {},
   "outputs": [],
   "source": [
    "driver.get(\"https://www.naukri.com/job-listings-data-scientist-machine-learning-catalyst-bangalore-bengaluru-2-to-7-years-290720902628?src=jobsearchDesk&sid=16174493576729790&xp=5&px=1\")\n"
   ]
  },
  {
   "cell_type": "code",
   "execution_count": 108,
   "metadata": {},
   "outputs": [
    {
     "data": {
      "text/plain": [
       "['Job description Roles and Responsibilities - Implement data-driven solutions based on advanced ML and optimization algorithms to address business problems  - Research, experiment, and innovate MLstatistical approaches in various application areas of interest and contribute to IP  - Partner with engineering teams to build scalable, efficient, automated ML-based pipelines (trainingevaluationmonitoring)  - Deploy, maintain, and debug MLdecision models in a production environment  - Analyze and assess data to ensure high data quality and correctness of downstream processes  - Communicate results to stakeholders and present datainsights to participate in and drive decision making RoleData Analyst Industry TypeBanking, Financial Services, Broking Functional AreaAnalytics & Business Intelligence Employment TypeFull Time, Permanent Role CategoryAnalytics & BI Education UG :B.Tech/B.E. in Any Specialization, B.Sc in Any Specialization, BCA in Computers PG :Any Postgraduate in Any Specialization Doctorate :Doctorate Not Required Key Skills Data ScienceData QualityData ScientistStatistical ModelingStatistical AnalystMachine Learning']"
      ]
     },
     "execution_count": 108,
     "metadata": {},
     "output_type": "execute_result"
    }
   ],
   "source": [
    "jd=[]\n",
    "for q in driver.find_elements_by_xpath(\"//section[@class='job-desc']\"):\n",
    "    jd.append(q.text.replace(\"\\n\",\" \"))\n",
    "    \n",
    "jd"
   ]
  },
  {
   "cell_type": "markdown",
   "metadata": {},
   "source": [
    "# 6th Jd\n",
    "Data Scientist - Machine Learning/Python\n",
    "Change leaders\n",
    "Hiring for Leading Client"
   ]
  },
  {
   "cell_type": "code",
   "execution_count": 109,
   "metadata": {},
   "outputs": [],
   "source": [
    "driver.get(\"https://www.naukri.com/job-listings-data-scientist-machine-learning-python-change-leaders-bangalore-bengaluru-1-to-5-years-260321905261?src=jobsearchDesk&sid=1617449488395298\")"
   ]
  },
  {
   "cell_type": "code",
   "execution_count": 110,
   "metadata": {},
   "outputs": [
    {
     "data": {
      "text/plain": [
       "['Job description Education requirement : PhD in Machine LearningDeep LearningArtificial IntelligenceImage processingStatisticsComputer Science Mathematics  Primary Role :  - Utilizing artificial intelligence and machine learning concepts to solve challenging business problems  - Work on problems from various domains like NLP, Recommendation engine, computer vision  - Should participate in complete project cycle i.e. understanding a problem statement, data gathering, analyzing data, implementing MLAI solutions  - Should be able to learn new toolslanguages quickly and continue expanding knowledge on latest advances in MLAI  - Managing project timing, client expectations and meeting deadlines  - Publishing research articles, papers and blogs  Desired skills and experience :  - Strong experience in machine learningartificial intelligence in academics or academics plus industry  - Expert level in at least one programming language. Preferably R or Python  - Knowledge of statistics and machine learning (Probability theory, parametric and non-parametric models, supervised and unsupervised ML techniques, etc.)  - Knowledge of deep learning algorithms (CNN, RNN, autoencoders, etc.) RoleData Analyst Industry TypeIT-Software, Software Services Functional AreaAnalytics & Business Intelligence Employment TypeFull Time, Permanent Role CategoryAnalytics & BI Education UG :Any Graduate in Any Specialization PG :Any Postgraduate in Any Specialization Doctorate :Doctorate Not Required, Ph.D in Statistics, Computers, Maths Key Skills NLPData ScientistArtificial IntelligenceStatistical ModelingData ModelingData AnalyticsMachine LearningDeep LearningPython']"
      ]
     },
     "execution_count": 110,
     "metadata": {},
     "output_type": "execute_result"
    }
   ],
   "source": [
    "jd=[]\n",
    "for t in driver.find_elements_by_xpath(\"//section[@class='job-desc']\"):\n",
    "    jd.append(t.text.replace(\"\\n\",\" \"))\n",
    "    \n",
    "jd"
   ]
  },
  {
   "cell_type": "markdown",
   "metadata": {},
   "source": [
    "7th Jd-Data Scientist - Machine Learning\n",
    "AugmatrixGo\n",
    "\n"
   ]
  },
  {
   "cell_type": "code",
   "execution_count": 111,
   "metadata": {},
   "outputs": [],
   "source": [
    "driver.get(\"https://www.naukri.com/job-listings-data-scientist-machine-learning-augmatrixgo-bangalore-bengaluru-2-to-5-years-140121905423?src=jobsearchDesk&sid=16174495845653207&xp=7&px=1\")"
   ]
  },
  {
   "cell_type": "code",
   "execution_count": 112,
   "metadata": {},
   "outputs": [
    {
     "data": {
      "text/plain": [
       "['Job description Roles and Responsibilities   - Selecting features, building and optimizing classifiers using machine learning techniques  - Data mining using state-of-the-art methods  - Enhancing data collection procedures to include information that is relevant for building analytic systems  - Processing, cleansing, and verifying the integrity of data used for analysis  - Doing ad-hoc analysis and presenting results in a clear manner  - Creating automated anomaly detection systems and constant tracking of its performance  Skills Required :  - Excellent understanding of machine learning techniques and algorithms, such as k-NN, Naive Bayes, SVM, Decision Forests, etc.  - Experiences with one or more of the following is highly desirable: HPC/Parallelization, operationalizing ML models; cloud computing (e.g. Google Cloud, AWS, etc.); familiarity with ML frameworks such as Tensorflow, Theano, MXNet, etc  - Good experience in a few of the following areas: deep neural networks, reinforcement learning, Markov Random Fields, Bayesian networks, semi-supervised learning, computer vision, image processing, signal processing, distributed computing, and/or numerical optimization  - 2+ years of experience with computer vision and deep learning solutions, including image classification, object detection, segmentation, and equivalent computer vision-based vision tasks  - Experience with common data science toolkits, such as R, Weka, NumPy, etc . Excellence in at least one of these is highly desirable  - Proficiency in using query languages such as SQL, Hive, Pig  - Good applied statistics skills, such as distributions, statistical testing, regression, etc.  - Good scripting and programming skills  - Data-oriented personality  - B.Tech/M.Tech degree in from reputed institutes like IIT / NIT / BITS RoleData Analyst Industry TypeIT-Software, Software Services Functional AreaAnalytics & Business Intelligence Employment TypeFull Time, Permanent Role CategoryAnalytics & BI Education UG :B.Tech/B.E. in Any Specialization PG :M.Tech in Any Specialization Doctorate :Doctorate Not Required Key Skills HiveRCloud ComputingData ScientistComputer VisionMachine LearningDeep LearningSQLPig']"
      ]
     },
     "execution_count": 112,
     "metadata": {},
     "output_type": "execute_result"
    }
   ],
   "source": [
    "jd=[]\n",
    "for y in driver.find_elements_by_xpath(\"//section[@class='job-desc']\"):\n",
    "    jd.append(y.text.replace(\"\\n\",\" \"))\n",
    "    \n",
    "jd"
   ]
  },
  {
   "cell_type": "markdown",
   "metadata": {},
   "source": [
    "8th Jd\n",
    "Data Scientist\n",
    "Vanguard Human Resource Consultant Pvt Ltd\n",
    "Hiring for Leading Research & Analytics Company"
   ]
  },
  {
   "cell_type": "code",
   "execution_count": 113,
   "metadata": {},
   "outputs": [],
   "source": [
    "driver.get(\"https://www.naukri.com/job-listings-data-scientist-vanguard-human-resource-consultant-pvt-ltd-bangalore-bengaluru-2-to-6-years-240321006582?src=jobsearchDesk&sid=16174496566607565&xp=8&px=1\")"
   ]
  },
  {
   "cell_type": "code",
   "execution_count": 114,
   "metadata": {},
   "outputs": [
    {
     "data": {
      "text/plain": [
       "['Job description Strong in Experience in Data Science with following mandatory skills  Machine Learning Statistical Modelling Artificial Intelligence R or Python Client Management  Required Candidate profile - Good communication skills RoleData Analyst Industry TypeKPO, Research, Analytics Functional AreaAnalytics & Business Intelligence Employment TypeFull Time, Permanent Role CategoryAnalytics & BI Education UG :Any Graduate in Any Specialization Key Skills Data ScienceRData ScientistArtificial IntelligenceStatistical ModellingMachine LearningPython']"
      ]
     },
     "execution_count": 114,
     "metadata": {},
     "output_type": "execute_result"
    }
   ],
   "source": [
    "jd=[]\n",
    "for d in driver.find_elements_by_xpath(\"//section[@class='job-desc']\"):\n",
    "    jd.append(d.text.replace(\"\\n\",\" \"))\n",
    "    \n",
    "jd"
   ]
  },
  {
   "cell_type": "markdown",
   "metadata": {},
   "source": [
    "9th Jd\n",
    "Data Scientist - Internet/Online\n",
    "e-Hireo Global Pvt Ltd\n",
    "Hiring for Leading Client"
   ]
  },
  {
   "cell_type": "code",
   "execution_count": 115,
   "metadata": {},
   "outputs": [],
   "source": [
    "driver.get(\"https://www.naukri.com/job-listings-data-scientist-internet-online-e-hireo-global-pvt-ltd-bangalore-bengaluru-2-to-5-years-250820900813?src=jobsearchDesk&sid=16174497533613184&xp=9&px=1\")"
   ]
  },
  {
   "cell_type": "code",
   "execution_count": 116,
   "metadata": {},
   "outputs": [
    {
     "data": {
      "text/plain": [
       "['Job description Roles and Responsibilities Job Description :  - Dig deeper into data, understand characteristics of data, evaluate alternate models and validate hypothesis through theoretical and empirical approaches.  - Collaborate with product development, customer success, risk modeling and engineering teams in Business Units to understand their requirements challenges and develop robust solutions  - Stay current with latest research and technology ideas; share knowledge by clearly articulating results and ideas to key decision makers.  Requirements :  - BS/MS in Computer Science, Statistics, Applied Math, or related areas, with 2-4yrs of relevant work experience.  - Fluency in analytical tools such as Matlab, R, Python etc.  - Fluency in programming languages like C/C++/Java.  - Strong intuition for data and Keen aptitude on large scale data analysis  - Strong communication and collaboration skills. RoleData Analyst Industry TypeInternet, Ecommerce Functional AreaAnalytics & Business Intelligence Employment TypeFull Time, Permanent Role CategoryAnalytics & BI Education UG :B.Sc in Maths, Computers, Statistics PG :MS/M.Sc(Science) in Computers, Statistics, Maths Doctorate :Doctorate Not Required Key Skills Data ScienceData ScientistData ManagementData AnalyticsAnalytics']"
      ]
     },
     "execution_count": 116,
     "metadata": {},
     "output_type": "execute_result"
    }
   ],
   "source": [
    "jd=[]\n",
    "for e in driver.find_elements_by_xpath(\"//section[@class='job-desc']\"):\n",
    "    jd.append(e.text.replace(\"\\n\",\" \"))\n",
    "    \n",
    "jd"
   ]
  },
  {
   "cell_type": "markdown",
   "metadata": {},
   "source": [
    "10th Jd"
   ]
  },
  {
   "cell_type": "code",
   "execution_count": 117,
   "metadata": {},
   "outputs": [],
   "source": [
    "driver.get(\"https://www.naukri.com/job-listings-data-scientist-mobiotics-it-solution-pvt-ltd-bangalore-bengaluru-2-to-5-years-011120000228?src=jobsearchDesk&sid=16174498437659197&xp=10&px=1\")"
   ]
  },
  {
   "cell_type": "code",
   "execution_count": 118,
   "metadata": {},
   "outputs": [
    {
     "data": {
      "text/plain": [
       "['Job description Data Scientist @ Mobiotics  Roles and Responsibilities 1. Build and maintain big data analytics platforms 2. Optimise analytics and database workflows 3. Predictive Analytics, Data modelling and ML Implementation Desired Candidate Profile 1. 2-5 Years of solid experience in data analytics and ML 2. Degree in Data Science preferred with good understanding of data analytics algorithms and data fundamentals 3. Expertise in using python, numpy, pandas, Scala/R for data analytics 4. Expertise in using SQL and derivatives for doing data analytics 5. Expertise with SQL/NoSQL data systems and processing pipelines like MySQL, Postgresql, Cassandra, Spark, Bigtable, Redshift, DynamoDB, MongoDB, Hadoop, Hive etc 6. Experience working with huge data sets and Jupyter Notebooks 7. Expertise with ML algorithms and Deep Learning Models using Pytorch and Keras 8. Experience with data streaming systems like Kafka, Kinesis etc. 9. Good experience working with cloud - AWS/Azure/GCP 10. Experience with NLP and ELK Stack  Perks and Benefits Flexible work environment Cutting Edge Work ESOP and other perks RoleData Analyst Industry TypeIT-Software, Software Services Functional AreaAnalytics & Business Intelligence Employment TypeFull Time, Permanent Role CategoryAnalytics & BI Education UG :B.Tech/B.E. in Computers PG :M.Tech in Computers, MS/M.Sc(Science) in Computers, Data Informatics Key Skills Big Data AnalyticsELKPostgresqlCassandraKafkaJupyter NotebookMachine LearningNumpyDeep LearningRedshiftPandaData SciencePyTorchNLPKinesisMySQLKerasMongoDBData ModelingSparkAWSPythonPredictive Analytics']"
      ]
     },
     "execution_count": 118,
     "metadata": {},
     "output_type": "execute_result"
    }
   ],
   "source": [
    "jd=[]\n",
    "for p in driver.find_elements_by_xpath(\"//section[@class='job-desc']\"):\n",
    "    jd.append(p.text.replace(\"\\n\",\" \"))\n",
    "    \n",
    "jd"
   ]
  },
  {
   "cell_type": "code",
   "execution_count": 119,
   "metadata": {},
   "outputs": [
    {
     "data": {
      "text/plain": [
       "[\"Job description Roles and responsibilities  Job description  Skill: SQL, Python, Business Analysis, Data Science;  Exp: 2-7 years;  Job Description Ensuring quality in crowd sourcing model is the biggest challenge to solve for. Being the first data scientist of the company, you shall be responsible for building robust algorithms ensure quality, from scratch.Responsibilities- Develop models to derive maximum quality from crowd sourced data  Derive insights and identify opportunities through the use of algorithmic, statistical, mining & visualisation techniques- Work closely with engineering to implement aforementioned models Required Candidate profile Requirements  Bachelors or above in Mathematics, Statistics, CS or related fields.  Min. 2 years experience with mathematical modelling, statistical analysis, machine learning, NLP- Must have implemented machine learning based solution which is being used in production  Programming proficiency, preferably with Python, R, SQL, Java and equivalents- Experience of working with relational and non-relational databasesWe're a fast growing startup, looking for talented and ambitious individuals who want to join us on this journey and build awesome things which can change the way work gets done. You shall get,- Complete Ownership, Flexible timings  We deal with millions of data points every day and we can assure you that you will have no dearth of data to work with in this job- Pay as per industry standards. Lucrative stock options.  An awesome office to work in and awesome people to work with- Weekend beer! Munchies on the house ) RoleData Analyst Industry TypeIT-Software, Software Services Functional AreaAnalytics & Business Intelligence Employment TypeFull Time, Permanent Role CategoryAnalytics & BI Education UG :B.Tech/B.E. in Computers, B.Sc in Maths, Statistics, B.A in Statistics, Maths PG :Any Postgraduate in Any Specialization Doctorate :Doctorate Not Required, Any Doctorate in Any Specialization Key Skills Data ScienceJavaRNLPAlgorithmsData ScientistMachine LearningStatistical AnalysisStatisticsPythonSQL\",\n",
       " \"Job description Roles and responsibilities  Job description  Skill: SQL, Python, Business Analysis, Data Science;  Exp: 2-7 years;  Job Description Ensuring quality in crowd sourcing model is the biggest challenge to solve for. Being the first data scientist of the company, you shall be responsible for building robust algorithms ensure quality, from scratch.Responsibilities- Develop models to derive maximum quality from crowd sourced data  Derive insights and identify opportunities through the use of algorithmic, statistical, mining & visualisation techniques- Work closely with engineering to implement aforementioned models Required Candidate profile Requirements  Bachelors or above in Mathematics, Statistics, CS or related fields.  Min. 2 years experience with mathematical modelling, statistical analysis, machine learning, NLP- Must have implemented machine learning based solution which is being used in production  Programming proficiency, preferably with Python, R, SQL, Java and equivalents- Experience of working with relational and non-relational databasesWe're a fast growing startup, looking for talented and ambitious individuals who want to join us on this journey and build awesome things which can change the way work gets done. You shall get,- Complete Ownership, Flexible timings  We deal with millions of data points every day and we can assure you that you will have no dearth of data to work with in this job- Pay as per industry standards. Lucrative stock options.  An awesome office to work in and awesome people to work with- Weekend beer! Munchies on the house ) RoleData Analyst Industry TypeIT-Software, Software Services Functional AreaAnalytics & Business Intelligence Employment TypeFull Time, Permanent Role CategoryAnalytics & BI Education UG :B.Tech/B.E. in Computers, B.Sc in Maths, Statistics, B.A in Statistics, Maths PG :Any Postgraduate in Any Specialization Doctorate :Doctorate Not Required, Any Doctorate in Any Specialization Key Skills Data ScienceJavaRNLPAlgorithmsData ScientistMachine LearningStatistical AnalysisStatisticsPythonSQL\",\n",
       " \"Job description What You'll Do :  - Leverage data to perform intensive analysis across all areas of our business to catalyze product development  - Design experiments and interpret the results to draw detailed and actionable conclusions  - Generate and execute on ideas for exploratory analysis to shape future projects and provide recommendations for actions  - Perform time-series analyses, hypothesis testing, and causal analyses to statistically assess relative impact and extract trends  - Create models to enhance understanding of user behavior and predict future performance of cohorts  - Create dashboards and reports to regularly communicate results and monitor key metrics  - Present findings to senior management to guide business decisions  - Collaborate with cross-functional teams across disciplines such as product, engineering, operations, and marketing  Required Candidate profile What You'll Need :  - 3-5 years of experience in a quantitative analysis role  - BE/BS/MS in Physics, Economics, Applied Math, Statistics, Engineering, Computer Science, or other quantitative field (advanced degrees are a plus)  - Comfortable writing code and contributing to a code base in Python or R  - Proficient in writing and understanding complex SQL; experience working with large data sets  - Advanced knowledge of experimentation and statistical methods  - Ability to deliver on tight timelines and move quickly while maintaining attention to detail  - Collaborate closely with cross-functional teams to execute on decisions  - Self-driven and proactive with the ability to work in a self-guided manner  - Excellent communication and organization skills RoleData Analyst Industry TypeIT-Software, Software Services Functional AreaAnalytics & Business Intelligence Employment TypeFull Time, Permanent Role CategoryAnalytics & BI Education UG :B.Tech/B.E. in Computers, B.Sc in Other Specialization, Physics, Statistics PG :MS/M.Sc(Science) in Physics, Computers, Statistics Doctorate :Doctorate Not Required Key Skills Data ScienceRData ScientistData Managementproduct developmentPythonSQL\",\n",
       " 'Job description Responsibilities:  - Work with stakeholders throughout the organization to identify opportunities for leveraging company data to drive business solutions.  - Mine and analyze data from company databases to drive optimization and improvement  - Assess the effectiveness and accuracy of new data sources and data gathering techniques.  - Develop custom data models and algorithms to apply to data sets.  - Use predictive modeling to increase and optimize customer experiences, revenue generation, ad targeting and other business outcomes.  - Develop company A/B testing framework and test model quality.  - Coordinate with different functional teams to implement models and monitor outcomes.  - Develop processes and tools to monitor and analyze model performance and data accuracy  Required Candidate profile Qualifications & Experience:  - PG / MBA with 2 to 5 Yrs Experience with strong problem solving skills with an emphasis on product development.  - Experience using statistical computer languages (R, Python, SLQ, etc.) to manipulate data and draw insights from large data sets.  - Experience working with and creating data architectures.  - Knowledge of a variety of machine learning techniques (clustering, decision tree learning, artificial neural networks, etc.) and their real-world advantages/drawbacks.  - Knowledge of advanced statistical techniques and concepts . RoleData Analyst Industry TypeKPO, Research, Analytics Functional AreaAnalytics & Business Intelligence Employment TypeFull Time, Permanent Role CategoryAnalytics & BI Education UG :Any Graduate in Any Specialization PG :MBA/PGDM in Any Specialization Doctorate :Doctorate Not Required Key Skills Data SciencePredictive ModelingNLPData ScientistArtificial IntelligenceData ManagementStatistical ModelingData ModelingMachine LearningPythonSQL',\n",
       " 'Job description Roles and Responsibilities - Implement data-driven solutions based on advanced ML and optimization algorithms to address business problems  - Research, experiment, and innovate MLstatistical approaches in various application areas of interest and contribute to IP  - Partner with engineering teams to build scalable, efficient, automated ML-based pipelines (trainingevaluationmonitoring)  - Deploy, maintain, and debug MLdecision models in a production environment  - Analyze and assess data to ensure high data quality and correctness of downstream processes  - Communicate results to stakeholders and present datainsights to participate in and drive decision making RoleData Analyst Industry TypeBanking, Financial Services, Broking Functional AreaAnalytics & Business Intelligence Employment TypeFull Time, Permanent Role CategoryAnalytics & BI Education UG :B.Tech/B.E. in Any Specialization, BCA in Computers, B.Sc in Any Specialization PG :Any Postgraduate in Any Specialization Doctorate :Doctorate Not Required Key Skills Data ScienceData QualityData ScientistStatistical ModelingStatistical AnalystMachine Learning',\n",
       " 'Job description Education requirement : PhD in Machine LearningDeep LearningArtificial IntelligenceImage processingStatisticsComputer Science Mathematics  Primary Role :  - Utilizing artificial intelligence and machine learning concepts to solve challenging business problems  - Work on problems from various domains like NLP, Recommendation engine, computer vision  - Should participate in complete project cycle i.e. understanding a problem statement, data gathering, analyzing data, implementing MLAI solutions  - Should be able to learn new toolslanguages quickly and continue expanding knowledge on latest advances in MLAI  - Managing project timing, client expectations and meeting deadlines  - Publishing research articles, papers and blogs  Desired skills and experience :  - Strong experience in machine learningartificial intelligence in academics or academics plus industry  - Expert level in at least one programming language. Preferably R or Python  - Knowledge of statistics and machine learning (Probability theory, parametric and non-parametric models, supervised and unsupervised ML techniques, etc.)  - Knowledge of deep learning algorithms (CNN, RNN, autoencoders, etc.) RoleData Analyst Industry TypeIT-Software, Software Services Functional AreaAnalytics & Business Intelligence Employment TypeFull Time, Permanent Role CategoryAnalytics & BI Education UG :Any Graduate in Any Specialization PG :Any Postgraduate in Any Specialization Doctorate :Ph.D in Statistics, Computers, Maths, Doctorate Not Required Key Skills NLPData ScientistArtificial IntelligenceStatistical ModelingData ModelingData AnalyticsMachine LearningDeep LearningPython',\n",
       " 'Job description Roles and Responsibilities   - Selecting features, building and optimizing classifiers using machine learning techniques  - Data mining using state-of-the-art methods  - Enhancing data collection procedures to include information that is relevant for building analytic systems  - Processing, cleansing, and verifying the integrity of data used for analysis  - Doing ad-hoc analysis and presenting results in a clear manner  - Creating automated anomaly detection systems and constant tracking of its performance  Skills Required :  - Excellent understanding of machine learning techniques and algorithms, such as k-NN, Naive Bayes, SVM, Decision Forests, etc.  - Experiences with one or more of the following is highly desirable: HPC/Parallelization, operationalizing ML models; cloud computing (e.g. Google Cloud, AWS, etc.); familiarity with ML frameworks such as Tensorflow, Theano, MXNet, etc  - Good experience in a few of the following areas: deep neural networks, reinforcement learning, Markov Random Fields, Bayesian networks, semi-supervised learning, computer vision, image processing, signal processing, distributed computing, and/or numerical optimization  - 2+ years of experience with computer vision and deep learning solutions, including image classification, object detection, segmentation, and equivalent computer vision-based vision tasks  - Experience with common data science toolkits, such as R, Weka, NumPy, etc . Excellence in at least one of these is highly desirable  - Proficiency in using query languages such as SQL, Hive, Pig  - Good applied statistics skills, such as distributions, statistical testing, regression, etc.  - Good scripting and programming skills  - Data-oriented personality  - B.Tech/M.Tech degree in from reputed institutes like IIT / NIT / BITS RoleData Analyst Industry TypeIT-Software, Software Services Functional AreaAnalytics & Business Intelligence Employment TypeFull Time, Permanent Role CategoryAnalytics & BI Education UG :B.Tech/B.E. in Any Specialization PG :M.Tech in Any Specialization Doctorate :Doctorate Not Required Key Skills HiveRCloud ComputingData ScientistComputer VisionMachine LearningDeep LearningSQLPig',\n",
       " 'Job description Strong in Experience in Data Science with following mandatory skills  Machine Learning Statistical Modelling Artificial Intelligence R or Python Client Management  Required Candidate profile - Good communication skills RoleData Analyst Industry TypeKPO, Research, Analytics Functional AreaAnalytics & Business Intelligence Employment TypeFull Time, Permanent Role CategoryAnalytics & BI Education UG :Any Graduate in Any Specialization Key Skills Data ScienceRData ScientistArtificial IntelligenceStatistical ModellingMachine LearningPython',\n",
       " 'Job description Roles and Responsibilities Job Description :  - Dig deeper into data, understand characteristics of data, evaluate alternate models and validate hypothesis through theoretical and empirical approaches.  - Collaborate with product development, customer success, risk modeling and engineering teams in Business Units to understand their requirements challenges and develop robust solutions  - Stay current with latest research and technology ideas; share knowledge by clearly articulating results and ideas to key decision makers.  Requirements :  - BS/MS in Computer Science, Statistics, Applied Math, or related areas, with 2-4yrs of relevant work experience.  - Fluency in analytical tools such as Matlab, R, Python etc.  - Fluency in programming languages like C/C++/Java.  - Strong intuition for data and Keen aptitude on large scale data analysis  - Strong communication and collaboration skills. RoleData Analyst Industry TypeInternet, Ecommerce Functional AreaAnalytics & Business Intelligence Employment TypeFull Time, Permanent Role CategoryAnalytics & BI Education UG :B.Sc in Maths, Computers, Statistics PG :MS/M.Sc(Science) in Computers, Statistics, Maths Doctorate :Doctorate Not Required Key Skills Data ScienceData ScientistData ManagementData AnalyticsAnalytics',\n",
       " 'Job description Data Scientist @ Mobiotics  Roles and Responsibilities 1. Build and maintain big data analytics platforms 2. Optimise analytics and database workflows 3. Predictive Analytics, Data modelling and ML Implementation Desired Candidate Profile 1. 2-5 Years of solid experience in data analytics and ML 2. Degree in Data Science preferred with good understanding of data analytics algorithms and data fundamentals 3. Expertise in using python, numpy, pandas, Scala/R for data analytics 4. Expertise in using SQL and derivatives for doing data analytics 5. Expertise with SQL/NoSQL data systems and processing pipelines like MySQL, Postgresql, Cassandra, Spark, Bigtable, Redshift, DynamoDB, MongoDB, Hadoop, Hive etc 6. Experience working with huge data sets and Jupyter Notebooks 7. Expertise with ML algorithms and Deep Learning Models using Pytorch and Keras 8. Experience with data streaming systems like Kafka, Kinesis etc. 9. Good experience working with cloud - AWS/Azure/GCP 10. Experience with NLP and ELK Stack  Perks and Benefits Flexible work environment Cutting Edge Work ESOP and other perks RoleData Analyst Industry TypeIT-Software, Software Services Functional AreaAnalytics & Business Intelligence Employment TypeFull Time, Permanent Role CategoryAnalytics & BI Education UG :B.Tech/B.E. in Computers PG :M.Tech in Computers, MS/M.Sc(Science) in Computers, Data Informatics Key Skills Big Data AnalyticsELKPostgresqlCassandraKafkaJupyter NotebookMachine LearningNumpyDeep LearningRedshiftPandaData SciencePyTorchNLPKinesisMySQLKerasMongoDBData ModelingSparkAWSPythonPredictive Analytics']"
      ]
     },
     "execution_count": 119,
     "metadata": {},
     "output_type": "execute_result"
    }
   ],
   "source": [
    "job_des=[\"Job description Roles and responsibilities  Job description  Skill: SQL, Python, Business Analysis, Data Science;  Exp: 2-7 years;  Job Description Ensuring quality in crowd sourcing model is the biggest challenge to solve for. Being the first data scientist of the company, you shall be responsible for building robust algorithms ensure quality, from scratch.Responsibilities- Develop models to derive maximum quality from crowd sourced data  Derive insights and identify opportunities through the use of algorithmic, statistical, mining & visualisation techniques- Work closely with engineering to implement aforementioned models Required Candidate profile Requirements  Bachelors or above in Mathematics, Statistics, CS or related fields.  Min. 2 years experience with mathematical modelling, statistical analysis, machine learning, NLP- Must have implemented machine learning based solution which is being used in production  Programming proficiency, preferably with Python, R, SQL, Java and equivalents- Experience of working with relational and non-relational databasesWe're a fast growing startup, looking for talented and ambitious individuals who want to join us on this journey and build awesome things which can change the way work gets done. You shall get,- Complete Ownership, Flexible timings  We deal with millions of data points every day and we can assure you that you will have no dearth of data to work with in this job- Pay as per industry standards. Lucrative stock options.  An awesome office to work in and awesome people to work with- Weekend beer! Munchies on the house ) RoleData Analyst Industry TypeIT-Software, Software Services Functional AreaAnalytics & Business Intelligence Employment TypeFull Time, Permanent Role CategoryAnalytics & BI Education UG :B.Tech/B.E. in Computers, B.Sc in Maths, Statistics, B.A in Statistics, Maths PG :Any Postgraduate in Any Specialization Doctorate :Doctorate Not Required, Any Doctorate in Any Specialization Key Skills Data ScienceJavaRNLPAlgorithmsData ScientistMachine LearningStatistical AnalysisStatisticsPythonSQL\",\"Job description Roles and responsibilities  Job description  Skill: SQL, Python, Business Analysis, Data Science;  Exp: 2-7 years;  Job Description Ensuring quality in crowd sourcing model is the biggest challenge to solve for. Being the first data scientist of the company, you shall be responsible for building robust algorithms ensure quality, from scratch.Responsibilities- Develop models to derive maximum quality from crowd sourced data  Derive insights and identify opportunities through the use of algorithmic, statistical, mining & visualisation techniques- Work closely with engineering to implement aforementioned models Required Candidate profile Requirements  Bachelors or above in Mathematics, Statistics, CS or related fields.  Min. 2 years experience with mathematical modelling, statistical analysis, machine learning, NLP- Must have implemented machine learning based solution which is being used in production  Programming proficiency, preferably with Python, R, SQL, Java and equivalents- Experience of working with relational and non-relational databasesWe're a fast growing startup, looking for talented and ambitious individuals who want to join us on this journey and build awesome things which can change the way work gets done. You shall get,- Complete Ownership, Flexible timings  We deal with millions of data points every day and we can assure you that you will have no dearth of data to work with in this job- Pay as per industry standards. Lucrative stock options.  An awesome office to work in and awesome people to work with- Weekend beer! Munchies on the house ) RoleData Analyst Industry TypeIT-Software, Software Services Functional AreaAnalytics & Business Intelligence Employment TypeFull Time, Permanent Role CategoryAnalytics & BI Education UG :B.Tech/B.E. in Computers, B.Sc in Maths, Statistics, B.A in Statistics, Maths PG :Any Postgraduate in Any Specialization Doctorate :Doctorate Not Required, Any Doctorate in Any Specialization Key Skills Data ScienceJavaRNLPAlgorithmsData ScientistMachine LearningStatistical AnalysisStatisticsPythonSQL\",\"Job description What You'll Do :  - Leverage data to perform intensive analysis across all areas of our business to catalyze product development  - Design experiments and interpret the results to draw detailed and actionable conclusions  - Generate and execute on ideas for exploratory analysis to shape future projects and provide recommendations for actions  - Perform time-series analyses, hypothesis testing, and causal analyses to statistically assess relative impact and extract trends  - Create models to enhance understanding of user behavior and predict future performance of cohorts  - Create dashboards and reports to regularly communicate results and monitor key metrics  - Present findings to senior management to guide business decisions  - Collaborate with cross-functional teams across disciplines such as product, engineering, operations, and marketing  Required Candidate profile What You'll Need :  - 3-5 years of experience in a quantitative analysis role  - BE/BS/MS in Physics, Economics, Applied Math, Statistics, Engineering, Computer Science, or other quantitative field (advanced degrees are a plus)  - Comfortable writing code and contributing to a code base in Python or R  - Proficient in writing and understanding complex SQL; experience working with large data sets  - Advanced knowledge of experimentation and statistical methods  - Ability to deliver on tight timelines and move quickly while maintaining attention to detail  - Collaborate closely with cross-functional teams to execute on decisions  - Self-driven and proactive with the ability to work in a self-guided manner  - Excellent communication and organization skills RoleData Analyst Industry TypeIT-Software, Software Services Functional AreaAnalytics & Business Intelligence Employment TypeFull Time, Permanent Role CategoryAnalytics & BI Education UG :B.Tech/B.E. in Computers, B.Sc in Other Specialization, Physics, Statistics PG :MS/M.Sc(Science) in Physics, Computers, Statistics Doctorate :Doctorate Not Required Key Skills Data ScienceRData ScientistData Managementproduct developmentPythonSQL\",\"Job description Responsibilities:  - Work with stakeholders throughout the organization to identify opportunities for leveraging company data to drive business solutions.  - Mine and analyze data from company databases to drive optimization and improvement  - Assess the effectiveness and accuracy of new data sources and data gathering techniques.  - Develop custom data models and algorithms to apply to data sets.  - Use predictive modeling to increase and optimize customer experiences, revenue generation, ad targeting and other business outcomes.  - Develop company A/B testing framework and test model quality.  - Coordinate with different functional teams to implement models and monitor outcomes.  - Develop processes and tools to monitor and analyze model performance and data accuracy  Required Candidate profile Qualifications & Experience:  - PG / MBA with 2 to 5 Yrs Experience with strong problem solving skills with an emphasis on product development.  - Experience using statistical computer languages (R, Python, SLQ, etc.) to manipulate data and draw insights from large data sets.  - Experience working with and creating data architectures.  - Knowledge of a variety of machine learning techniques (clustering, decision tree learning, artificial neural networks, etc.) and their real-world advantages/drawbacks.  - Knowledge of advanced statistical techniques and concepts . RoleData Analyst Industry TypeKPO, Research, Analytics Functional AreaAnalytics & Business Intelligence Employment TypeFull Time, Permanent Role CategoryAnalytics & BI Education UG :Any Graduate in Any Specialization PG :MBA/PGDM in Any Specialization Doctorate :Doctorate Not Required Key Skills Data SciencePredictive ModelingNLPData ScientistArtificial IntelligenceData ManagementStatistical ModelingData ModelingMachine LearningPythonSQL\",\"Job description Roles and Responsibilities - Implement data-driven solutions based on advanced ML and optimization algorithms to address business problems  - Research, experiment, and innovate MLstatistical approaches in various application areas of interest and contribute to IP  - Partner with engineering teams to build scalable, efficient, automated ML-based pipelines (trainingevaluationmonitoring)  - Deploy, maintain, and debug MLdecision models in a production environment  - Analyze and assess data to ensure high data quality and correctness of downstream processes  - Communicate results to stakeholders and present datainsights to participate in and drive decision making RoleData Analyst Industry TypeBanking, Financial Services, Broking Functional AreaAnalytics & Business Intelligence Employment TypeFull Time, Permanent Role CategoryAnalytics & BI Education UG :B.Tech/B.E. in Any Specialization, BCA in Computers, B.Sc in Any Specialization PG :Any Postgraduate in Any Specialization Doctorate :Doctorate Not Required Key Skills Data ScienceData QualityData ScientistStatistical ModelingStatistical AnalystMachine Learning\",\"Job description Education requirement : PhD in Machine LearningDeep LearningArtificial IntelligenceImage processingStatisticsComputer Science Mathematics  Primary Role :  - Utilizing artificial intelligence and machine learning concepts to solve challenging business problems  - Work on problems from various domains like NLP, Recommendation engine, computer vision  - Should participate in complete project cycle i.e. understanding a problem statement, data gathering, analyzing data, implementing MLAI solutions  - Should be able to learn new toolslanguages quickly and continue expanding knowledge on latest advances in MLAI  - Managing project timing, client expectations and meeting deadlines  - Publishing research articles, papers and blogs  Desired skills and experience :  - Strong experience in machine learningartificial intelligence in academics or academics plus industry  - Expert level in at least one programming language. Preferably R or Python  - Knowledge of statistics and machine learning (Probability theory, parametric and non-parametric models, supervised and unsupervised ML techniques, etc.)  - Knowledge of deep learning algorithms (CNN, RNN, autoencoders, etc.) RoleData Analyst Industry TypeIT-Software, Software Services Functional AreaAnalytics & Business Intelligence Employment TypeFull Time, Permanent Role CategoryAnalytics & BI Education UG :Any Graduate in Any Specialization PG :Any Postgraduate in Any Specialization Doctorate :Ph.D in Statistics, Computers, Maths, Doctorate Not Required Key Skills NLPData ScientistArtificial IntelligenceStatistical ModelingData ModelingData AnalyticsMachine LearningDeep LearningPython\",\"Job description Roles and Responsibilities   - Selecting features, building and optimizing classifiers using machine learning techniques  - Data mining using state-of-the-art methods  - Enhancing data collection procedures to include information that is relevant for building analytic systems  - Processing, cleansing, and verifying the integrity of data used for analysis  - Doing ad-hoc analysis and presenting results in a clear manner  - Creating automated anomaly detection systems and constant tracking of its performance  Skills Required :  - Excellent understanding of machine learning techniques and algorithms, such as k-NN, Naive Bayes, SVM, Decision Forests, etc.  - Experiences with one or more of the following is highly desirable: HPC/Parallelization, operationalizing ML models; cloud computing (e.g. Google Cloud, AWS, etc.); familiarity with ML frameworks such as Tensorflow, Theano, MXNet, etc  - Good experience in a few of the following areas: deep neural networks, reinforcement learning, Markov Random Fields, Bayesian networks, semi-supervised learning, computer vision, image processing, signal processing, distributed computing, and/or numerical optimization  - 2+ years of experience with computer vision and deep learning solutions, including image classification, object detection, segmentation, and equivalent computer vision-based vision tasks  - Experience with common data science toolkits, such as R, Weka, NumPy, etc . Excellence in at least one of these is highly desirable  - Proficiency in using query languages such as SQL, Hive, Pig  - Good applied statistics skills, such as distributions, statistical testing, regression, etc.  - Good scripting and programming skills  - Data-oriented personality  - B.Tech/M.Tech degree in from reputed institutes like IIT / NIT / BITS RoleData Analyst Industry TypeIT-Software, Software Services Functional AreaAnalytics & Business Intelligence Employment TypeFull Time, Permanent Role CategoryAnalytics & BI Education UG :B.Tech/B.E. in Any Specialization PG :M.Tech in Any Specialization Doctorate :Doctorate Not Required Key Skills HiveRCloud ComputingData ScientistComputer VisionMachine LearningDeep LearningSQLPig\",\"Job description Strong in Experience in Data Science with following mandatory skills  Machine Learning Statistical Modelling Artificial Intelligence R or Python Client Management  Required Candidate profile - Good communication skills RoleData Analyst Industry TypeKPO, Research, Analytics Functional AreaAnalytics & Business Intelligence Employment TypeFull Time, Permanent Role CategoryAnalytics & BI Education UG :Any Graduate in Any Specialization Key Skills Data ScienceRData ScientistArtificial IntelligenceStatistical ModellingMachine LearningPython\",\"Job description Roles and Responsibilities Job Description :  - Dig deeper into data, understand characteristics of data, evaluate alternate models and validate hypothesis through theoretical and empirical approaches.  - Collaborate with product development, customer success, risk modeling and engineering teams in Business Units to understand their requirements challenges and develop robust solutions  - Stay current with latest research and technology ideas; share knowledge by clearly articulating results and ideas to key decision makers.  Requirements :  - BS/MS in Computer Science, Statistics, Applied Math, or related areas, with 2-4yrs of relevant work experience.  - Fluency in analytical tools such as Matlab, R, Python etc.  - Fluency in programming languages like C/C++/Java.  - Strong intuition for data and Keen aptitude on large scale data analysis  - Strong communication and collaboration skills. RoleData Analyst Industry TypeInternet, Ecommerce Functional AreaAnalytics & Business Intelligence Employment TypeFull Time, Permanent Role CategoryAnalytics & BI Education UG :B.Sc in Maths, Computers, Statistics PG :MS/M.Sc(Science) in Computers, Statistics, Maths Doctorate :Doctorate Not Required Key Skills Data ScienceData ScientistData ManagementData AnalyticsAnalytics\",\"Job description Data Scientist @ Mobiotics  Roles and Responsibilities 1. Build and maintain big data analytics platforms 2. Optimise analytics and database workflows 3. Predictive Analytics, Data modelling and ML Implementation Desired Candidate Profile 1. 2-5 Years of solid experience in data analytics and ML 2. Degree in Data Science preferred with good understanding of data analytics algorithms and data fundamentals 3. Expertise in using python, numpy, pandas, Scala/R for data analytics 4. Expertise in using SQL and derivatives for doing data analytics 5. Expertise with SQL/NoSQL data systems and processing pipelines like MySQL, Postgresql, Cassandra, Spark, Bigtable, Redshift, DynamoDB, MongoDB, Hadoop, Hive etc 6. Experience working with huge data sets and Jupyter Notebooks 7. Expertise with ML algorithms and Deep Learning Models using Pytorch and Keras 8. Experience with data streaming systems like Kafka, Kinesis etc. 9. Good experience working with cloud - AWS/Azure/GCP 10. Experience with NLP and ELK Stack  Perks and Benefits Flexible work environment Cutting Edge Work ESOP and other perks RoleData Analyst Industry TypeIT-Software, Software Services Functional AreaAnalytics & Business Intelligence Employment TypeFull Time, Permanent Role CategoryAnalytics & BI Education UG :B.Tech/B.E. in Computers PG :M.Tech in Computers, MS/M.Sc(Science) in Computers, Data Informatics Key Skills Big Data AnalyticsELKPostgresqlCassandraKafkaJupyter NotebookMachine LearningNumpyDeep LearningRedshiftPandaData SciencePyTorchNLPKinesisMySQLKerasMongoDBData ModelingSparkAWSPythonPredictive Analytics\"]\n",
    "job_des"
   ]
  },
  {
   "cell_type": "code",
   "execution_count": 120,
   "metadata": {},
   "outputs": [
    {
     "data": {
      "text/plain": [
       "10"
      ]
     },
     "execution_count": 120,
     "metadata": {},
     "output_type": "execute_result"
    }
   ],
   "source": [
    "len(job_des)"
   ]
  },
  {
   "cell_type": "code",
   "execution_count": 121,
   "metadata": {},
   "outputs": [
    {
     "data": {
      "text/html": [
       "<div>\n",
       "<style scoped>\n",
       "    .dataframe tbody tr th:only-of-type {\n",
       "        vertical-align: middle;\n",
       "    }\n",
       "\n",
       "    .dataframe tbody tr th {\n",
       "        vertical-align: top;\n",
       "    }\n",
       "\n",
       "    .dataframe thead th {\n",
       "        text-align: right;\n",
       "    }\n",
       "</style>\n",
       "<table border=\"1\" class=\"dataframe\">\n",
       "  <thead>\n",
       "    <tr style=\"text-align: right;\">\n",
       "      <th></th>\n",
       "      <th>Job</th>\n",
       "      <th>Location</th>\n",
       "      <th>company</th>\n",
       "    </tr>\n",
       "  </thead>\n",
       "  <tbody>\n",
       "    <tr>\n",
       "      <th>0</th>\n",
       "      <td>Data Scientist - Python/ SQL</td>\n",
       "      <td>Bangalore/Bengaluru</td>\n",
       "      <td>Catalyst</td>\n",
       "    </tr>\n",
       "    <tr>\n",
       "      <th>1</th>\n",
       "      <td>Data Scientist - Python/sql</td>\n",
       "      <td>Bangalore/Bengaluru</td>\n",
       "      <td>Catalyst</td>\n",
       "    </tr>\n",
       "    <tr>\n",
       "      <th>2</th>\n",
       "      <td>Data Scientist - Python/r</td>\n",
       "      <td>Bangalore/Bengaluru</td>\n",
       "      <td>Catalyst</td>\n",
       "    </tr>\n",
       "    <tr>\n",
       "      <th>3</th>\n",
       "      <td>Data Scientist - Machine Learning</td>\n",
       "      <td>Bangalore/Bengaluru</td>\n",
       "      <td>Catalyst</td>\n",
       "    </tr>\n",
       "    <tr>\n",
       "      <th>4</th>\n",
       "      <td>Data Scientist</td>\n",
       "      <td>Bangalore/Bengaluru</td>\n",
       "      <td>Vanguard Human Resource Consultant Pvt Ltd</td>\n",
       "    </tr>\n",
       "    <tr>\n",
       "      <th>5</th>\n",
       "      <td>Data Scientist - KPO</td>\n",
       "      <td>Bangalore/Bengaluru</td>\n",
       "      <td>Antrors HR Solutions</td>\n",
       "    </tr>\n",
       "    <tr>\n",
       "      <th>6</th>\n",
       "      <td>Data Scientist - Machine Learning</td>\n",
       "      <td>Bangalore/Bengaluru</td>\n",
       "      <td>AugmatrixGo</td>\n",
       "    </tr>\n",
       "    <tr>\n",
       "      <th>7</th>\n",
       "      <td>Data Scientist - Machine Learning/Python</td>\n",
       "      <td>Bangalore/Bengaluru</td>\n",
       "      <td>Change leaders</td>\n",
       "    </tr>\n",
       "    <tr>\n",
       "      <th>8</th>\n",
       "      <td>Data Scientist</td>\n",
       "      <td>Bangalore/Bengaluru</td>\n",
       "      <td>Narayana Health</td>\n",
       "    </tr>\n",
       "    <tr>\n",
       "      <th>9</th>\n",
       "      <td>Data Scientist</td>\n",
       "      <td>Bangalore/Bengaluru</td>\n",
       "      <td>Narayana Health</td>\n",
       "    </tr>\n",
       "  </tbody>\n",
       "</table>\n",
       "</div>"
      ],
      "text/plain": [
       "                                        Job             Location  \\\n",
       "0              Data Scientist - Python/ SQL  Bangalore/Bengaluru   \n",
       "1               Data Scientist - Python/sql  Bangalore/Bengaluru   \n",
       "2                 Data Scientist - Python/r  Bangalore/Bengaluru   \n",
       "3         Data Scientist - Machine Learning  Bangalore/Bengaluru   \n",
       "4                            Data Scientist  Bangalore/Bengaluru   \n",
       "5                      Data Scientist - KPO  Bangalore/Bengaluru   \n",
       "6         Data Scientist - Machine Learning  Bangalore/Bengaluru   \n",
       "7  Data Scientist - Machine Learning/Python  Bangalore/Bengaluru   \n",
       "8                            Data Scientist  Bangalore/Bengaluru   \n",
       "9                            Data Scientist  Bangalore/Bengaluru   \n",
       "\n",
       "                                      company  \n",
       "0                                    Catalyst  \n",
       "1                                    Catalyst  \n",
       "2                                    Catalyst  \n",
       "3                                    Catalyst  \n",
       "4  Vanguard Human Resource Consultant Pvt Ltd  \n",
       "5                        Antrors HR Solutions  \n",
       "6                                 AugmatrixGo  \n",
       "7                              Change leaders  \n",
       "8                             Narayana Health  \n",
       "9                             Narayana Health  "
      ]
     },
     "execution_count": 121,
     "metadata": {},
     "output_type": "execute_result"
    }
   ],
   "source": [
    "jb"
   ]
  },
  {
   "cell_type": "code",
   "execution_count": 122,
   "metadata": {},
   "outputs": [],
   "source": [
    "jb.insert(2, \"JD\", [\"Job description Roles and responsibilities  Job description  Skill: SQL, Python, Business Analysis, Data Science;  Exp: 2-7 years;  Job Description Ensuring quality in crowd sourcing model is the biggest challenge to solve for. Being the first data scientist of the company, you shall be responsible for building robust algorithms ensure quality, from scratch.Responsibilities- Develop models to derive maximum quality from crowd sourced data  Derive insights and identify opportunities through the use of algorithmic, statistical, mining & visualisation techniques- Work closely with engineering to implement aforementioned models Required Candidate profile Requirements  Bachelors or above in Mathematics, Statistics, CS or related fields.  Min. 2 years experience with mathematical modelling, statistical analysis, machine learning, NLP- Must have implemented machine learning based solution which is being used in production  Programming proficiency, preferably with Python, R, SQL, Java and equivalents- Experience of working with relational and non-relational databasesWe're a fast growing startup, looking for talented and ambitious individuals who want to join us on this journey and build awesome things which can change the way work gets done. You shall get,- Complete Ownership, Flexible timings  We deal with millions of data points every day and we can assure you that you will have no dearth of data to work with in this job- Pay as per industry standards. Lucrative stock options.  An awesome office to work in and awesome people to work with- Weekend beer! Munchies on the house ) RoleData Analyst Industry TypeIT-Software, Software Services Functional AreaAnalytics & Business Intelligence Employment TypeFull Time, Permanent Role CategoryAnalytics & BI Education UG :B.Tech/B.E. in Computers, B.Sc in Maths, Statistics, B.A in Statistics, Maths PG :Any Postgraduate in Any Specialization Doctorate :Doctorate Not Required, Any Doctorate in Any Specialization Key Skills Data ScienceJavaRNLPAlgorithmsData ScientistMachine LearningStatistical AnalysisStatisticsPythonSQL\",\"Job description Roles and responsibilities  Job description  Skill: SQL, Python, Business Analysis, Data Science;  Exp: 2-7 years;  Job Description Ensuring quality in crowd sourcing model is the biggest challenge to solve for. Being the first data scientist of the company, you shall be responsible for building robust algorithms ensure quality, from scratch.Responsibilities- Develop models to derive maximum quality from crowd sourced data  Derive insights and identify opportunities through the use of algorithmic, statistical, mining & visualisation techniques- Work closely with engineering to implement aforementioned models Required Candidate profile Requirements  Bachelors or above in Mathematics, Statistics, CS or related fields.  Min. 2 years experience with mathematical modelling, statistical analysis, machine learning, NLP- Must have implemented machine learning based solution which is being used in production  Programming proficiency, preferably with Python, R, SQL, Java and equivalents- Experience of working with relational and non-relational databasesWe're a fast growing startup, looking for talented and ambitious individuals who want to join us on this journey and build awesome things which can change the way work gets done. You shall get,- Complete Ownership, Flexible timings  We deal with millions of data points every day and we can assure you that you will have no dearth of data to work with in this job- Pay as per industry standards. Lucrative stock options.  An awesome office to work in and awesome people to work with- Weekend beer! Munchies on the house ) RoleData Analyst Industry TypeIT-Software, Software Services Functional AreaAnalytics & Business Intelligence Employment TypeFull Time, Permanent Role CategoryAnalytics & BI Education UG :B.Tech/B.E. in Computers, B.Sc in Maths, Statistics, B.A in Statistics, Maths PG :Any Postgraduate in Any Specialization Doctorate :Doctorate Not Required, Any Doctorate in Any Specialization Key Skills Data ScienceJavaRNLPAlgorithmsData ScientistMachine LearningStatistical AnalysisStatisticsPythonSQL\",\"Job description What You'll Do :  - Leverage data to perform intensive analysis across all areas of our business to catalyze product development  - Design experiments and interpret the results to draw detailed and actionable conclusions  - Generate and execute on ideas for exploratory analysis to shape future projects and provide recommendations for actions  - Perform time-series analyses, hypothesis testing, and causal analyses to statistically assess relative impact and extract trends  - Create models to enhance understanding of user behavior and predict future performance of cohorts  - Create dashboards and reports to regularly communicate results and monitor key metrics  - Present findings to senior management to guide business decisions  - Collaborate with cross-functional teams across disciplines such as product, engineering, operations, and marketing  Required Candidate profile What You'll Need :  - 3-5 years of experience in a quantitative analysis role  - BE/BS/MS in Physics, Economics, Applied Math, Statistics, Engineering, Computer Science, or other quantitative field (advanced degrees are a plus)  - Comfortable writing code and contributing to a code base in Python or R  - Proficient in writing and understanding complex SQL; experience working with large data sets  - Advanced knowledge of experimentation and statistical methods  - Ability to deliver on tight timelines and move quickly while maintaining attention to detail  - Collaborate closely with cross-functional teams to execute on decisions  - Self-driven and proactive with the ability to work in a self-guided manner  - Excellent communication and organization skills RoleData Analyst Industry TypeIT-Software, Software Services Functional AreaAnalytics & Business Intelligence Employment TypeFull Time, Permanent Role CategoryAnalytics & BI Education UG :B.Tech/B.E. in Computers, B.Sc in Other Specialization, Physics, Statistics PG :MS/M.Sc(Science) in Physics, Computers, Statistics Doctorate :Doctorate Not Required Key Skills Data ScienceRData ScientistData Managementproduct developmentPythonSQL\",\"Job description Responsibilities:  - Work with stakeholders throughout the organization to identify opportunities for leveraging company data to drive business solutions.  - Mine and analyze data from company databases to drive optimization and improvement  - Assess the effectiveness and accuracy of new data sources and data gathering techniques.  - Develop custom data models and algorithms to apply to data sets.  - Use predictive modeling to increase and optimize customer experiences, revenue generation, ad targeting and other business outcomes.  - Develop company A/B testing framework and test model quality.  - Coordinate with different functional teams to implement models and monitor outcomes.  - Develop processes and tools to monitor and analyze model performance and data accuracy  Required Candidate profile Qualifications & Experience:  - PG / MBA with 2 to 5 Yrs Experience with strong problem solving skills with an emphasis on product development.  - Experience using statistical computer languages (R, Python, SLQ, etc.) to manipulate data and draw insights from large data sets.  - Experience working with and creating data architectures.  - Knowledge of a variety of machine learning techniques (clustering, decision tree learning, artificial neural networks, etc.) and their real-world advantages/drawbacks.  - Knowledge of advanced statistical techniques and concepts . RoleData Analyst Industry TypeKPO, Research, Analytics Functional AreaAnalytics & Business Intelligence Employment TypeFull Time, Permanent Role CategoryAnalytics & BI Education UG :Any Graduate in Any Specialization PG :MBA/PGDM in Any Specialization Doctorate :Doctorate Not Required Key Skills Data SciencePredictive ModelingNLPData ScientistArtificial IntelligenceData ManagementStatistical ModelingData ModelingMachine LearningPythonSQL\",\"Job description Roles and Responsibilities - Implement data-driven solutions based on advanced ML and optimization algorithms to address business problems  - Research, experiment, and innovate MLstatistical approaches in various application areas of interest and contribute to IP  - Partner with engineering teams to build scalable, efficient, automated ML-based pipelines (trainingevaluationmonitoring)  - Deploy, maintain, and debug MLdecision models in a production environment  - Analyze and assess data to ensure high data quality and correctness of downstream processes  - Communicate results to stakeholders and present datainsights to participate in and drive decision making RoleData Analyst Industry TypeBanking, Financial Services, Broking Functional AreaAnalytics & Business Intelligence Employment TypeFull Time, Permanent Role CategoryAnalytics & BI Education UG :B.Tech/B.E. in Any Specialization, BCA in Computers, B.Sc in Any Specialization PG :Any Postgraduate in Any Specialization Doctorate :Doctorate Not Required Key Skills Data ScienceData QualityData ScientistStatistical ModelingStatistical AnalystMachine Learning\",\"Job description Education requirement : PhD in Machine LearningDeep LearningArtificial IntelligenceImage processingStatisticsComputer Science Mathematics  Primary Role :  - Utilizing artificial intelligence and machine learning concepts to solve challenging business problems  - Work on problems from various domains like NLP, Recommendation engine, computer vision  - Should participate in complete project cycle i.e. understanding a problem statement, data gathering, analyzing data, implementing MLAI solutions  - Should be able to learn new toolslanguages quickly and continue expanding knowledge on latest advances in MLAI  - Managing project timing, client expectations and meeting deadlines  - Publishing research articles, papers and blogs  Desired skills and experience :  - Strong experience in machine learningartificial intelligence in academics or academics plus industry  - Expert level in at least one programming language. Preferably R or Python  - Knowledge of statistics and machine learning (Probability theory, parametric and non-parametric models, supervised and unsupervised ML techniques, etc.)  - Knowledge of deep learning algorithms (CNN, RNN, autoencoders, etc.) RoleData Analyst Industry TypeIT-Software, Software Services Functional AreaAnalytics & Business Intelligence Employment TypeFull Time, Permanent Role CategoryAnalytics & BI Education UG :Any Graduate in Any Specialization PG :Any Postgraduate in Any Specialization Doctorate :Ph.D in Statistics, Computers, Maths, Doctorate Not Required Key Skills NLPData ScientistArtificial IntelligenceStatistical ModelingData ModelingData AnalyticsMachine LearningDeep LearningPython\",\"Job description Roles and Responsibilities   - Selecting features, building and optimizing classifiers using machine learning techniques  - Data mining using state-of-the-art methods  - Enhancing data collection procedures to include information that is relevant for building analytic systems  - Processing, cleansing, and verifying the integrity of data used for analysis  - Doing ad-hoc analysis and presenting results in a clear manner  - Creating automated anomaly detection systems and constant tracking of its performance  Skills Required :  - Excellent understanding of machine learning techniques and algorithms, such as k-NN, Naive Bayes, SVM, Decision Forests, etc.  - Experiences with one or more of the following is highly desirable: HPC/Parallelization, operationalizing ML models; cloud computing (e.g. Google Cloud, AWS, etc.); familiarity with ML frameworks such as Tensorflow, Theano, MXNet, etc  - Good experience in a few of the following areas: deep neural networks, reinforcement learning, Markov Random Fields, Bayesian networks, semi-supervised learning, computer vision, image processing, signal processing, distributed computing, and/or numerical optimization  - 2+ years of experience with computer vision and deep learning solutions, including image classification, object detection, segmentation, and equivalent computer vision-based vision tasks  - Experience with common data science toolkits, such as R, Weka, NumPy, etc . Excellence in at least one of these is highly desirable  - Proficiency in using query languages such as SQL, Hive, Pig  - Good applied statistics skills, such as distributions, statistical testing, regression, etc.  - Good scripting and programming skills  - Data-oriented personality  - B.Tech/M.Tech degree in from reputed institutes like IIT / NIT / BITS RoleData Analyst Industry TypeIT-Software, Software Services Functional AreaAnalytics & Business Intelligence Employment TypeFull Time, Permanent Role CategoryAnalytics & BI Education UG :B.Tech/B.E. in Any Specialization PG :M.Tech in Any Specialization Doctorate :Doctorate Not Required Key Skills HiveRCloud ComputingData ScientistComputer VisionMachine LearningDeep LearningSQLPig\",\"Job description Strong in Experience in Data Science with following mandatory skills  Machine Learning Statistical Modelling Artificial Intelligence R or Python Client Management  Required Candidate profile - Good communication skills RoleData Analyst Industry TypeKPO, Research, Analytics Functional AreaAnalytics & Business Intelligence Employment TypeFull Time, Permanent Role CategoryAnalytics & BI Education UG :Any Graduate in Any Specialization Key Skills Data ScienceRData ScientistArtificial IntelligenceStatistical ModellingMachine LearningPython\",\"Job description Roles and Responsibilities Job Description :  - Dig deeper into data, understand characteristics of data, evaluate alternate models and validate hypothesis through theoretical and empirical approaches.  - Collaborate with product development, customer success, risk modeling and engineering teams in Business Units to understand their requirements challenges and develop robust solutions  - Stay current with latest research and technology ideas; share knowledge by clearly articulating results and ideas to key decision makers.  Requirements :  - BS/MS in Computer Science, Statistics, Applied Math, or related areas, with 2-4yrs of relevant work experience.  - Fluency in analytical tools such as Matlab, R, Python etc.  - Fluency in programming languages like C/C++/Java.  - Strong intuition for data and Keen aptitude on large scale data analysis  - Strong communication and collaboration skills. RoleData Analyst Industry TypeInternet, Ecommerce Functional AreaAnalytics & Business Intelligence Employment TypeFull Time, Permanent Role CategoryAnalytics & BI Education UG :B.Sc in Maths, Computers, Statistics PG :MS/M.Sc(Science) in Computers, Statistics, Maths Doctorate :Doctorate Not Required Key Skills Data ScienceData ScientistData ManagementData AnalyticsAnalytics\",\"Job description Data Scientist @ Mobiotics  Roles and Responsibilities 1. Build and maintain big data analytics platforms 2. Optimise analytics and database workflows 3. Predictive Analytics, Data modelling and ML Implementation Desired Candidate Profile 1. 2-5 Years of solid experience in data analytics and ML 2. Degree in Data Science preferred with good understanding of data analytics algorithms and data fundamentals 3. Expertise in using python, numpy, pandas, Scala/R for data analytics 4. Expertise in using SQL and derivatives for doing data analytics 5. Expertise with SQL/NoSQL data systems and processing pipelines like MySQL, Postgresql, Cassandra, Spark, Bigtable, Redshift, DynamoDB, MongoDB, Hadoop, Hive etc 6. Experience working with huge data sets and Jupyter Notebooks 7. Expertise with ML algorithms and Deep Learning Models using Pytorch and Keras 8. Experience with data streaming systems like Kafka, Kinesis etc. 9. Good experience working with cloud - AWS/Azure/GCP 10. Experience with NLP and ELK Stack  Perks and Benefits Flexible work environment Cutting Edge Work ESOP and other perks RoleData Analyst Industry TypeIT-Software, Software Services Functional AreaAnalytics & Business Intelligence Employment TypeFull Time, Permanent Role CategoryAnalytics & BI Education UG :B.Tech/B.E. in Computers PG :M.Tech in Computers, MS/M.Sc(Science) in Computers, Data Informatics Key Skills Big Data AnalyticsELKPostgresqlCassandraKafkaJupyter NotebookMachine LearningNumpyDeep LearningRedshiftPandaData SciencePyTorchNLPKinesisMySQLKerasMongoDBData ModelingSparkAWSPythonPredictive Analytics\"], True)"
   ]
  },
  {
   "cell_type": "code",
   "execution_count": 123,
   "metadata": {},
   "outputs": [
    {
     "data": {
      "text/html": [
       "<div>\n",
       "<style scoped>\n",
       "    .dataframe tbody tr th:only-of-type {\n",
       "        vertical-align: middle;\n",
       "    }\n",
       "\n",
       "    .dataframe tbody tr th {\n",
       "        vertical-align: top;\n",
       "    }\n",
       "\n",
       "    .dataframe thead th {\n",
       "        text-align: right;\n",
       "    }\n",
       "</style>\n",
       "<table border=\"1\" class=\"dataframe\">\n",
       "  <thead>\n",
       "    <tr style=\"text-align: right;\">\n",
       "      <th></th>\n",
       "      <th>Job</th>\n",
       "      <th>Location</th>\n",
       "      <th>JD</th>\n",
       "      <th>company</th>\n",
       "    </tr>\n",
       "  </thead>\n",
       "  <tbody>\n",
       "    <tr>\n",
       "      <th>0</th>\n",
       "      <td>Data Scientist - Python/ SQL</td>\n",
       "      <td>Bangalore/Bengaluru</td>\n",
       "      <td>Job description Roles and responsibilities  Jo...</td>\n",
       "      <td>Catalyst</td>\n",
       "    </tr>\n",
       "    <tr>\n",
       "      <th>1</th>\n",
       "      <td>Data Scientist - Python/sql</td>\n",
       "      <td>Bangalore/Bengaluru</td>\n",
       "      <td>Job description Roles and responsibilities  Jo...</td>\n",
       "      <td>Catalyst</td>\n",
       "    </tr>\n",
       "    <tr>\n",
       "      <th>2</th>\n",
       "      <td>Data Scientist - Python/r</td>\n",
       "      <td>Bangalore/Bengaluru</td>\n",
       "      <td>Job description What You'll Do :  - Leverage d...</td>\n",
       "      <td>Catalyst</td>\n",
       "    </tr>\n",
       "    <tr>\n",
       "      <th>3</th>\n",
       "      <td>Data Scientist - Machine Learning</td>\n",
       "      <td>Bangalore/Bengaluru</td>\n",
       "      <td>Job description Responsibilities:  - Work with...</td>\n",
       "      <td>Catalyst</td>\n",
       "    </tr>\n",
       "    <tr>\n",
       "      <th>4</th>\n",
       "      <td>Data Scientist</td>\n",
       "      <td>Bangalore/Bengaluru</td>\n",
       "      <td>Job description Roles and Responsibilities - I...</td>\n",
       "      <td>Vanguard Human Resource Consultant Pvt Ltd</td>\n",
       "    </tr>\n",
       "    <tr>\n",
       "      <th>5</th>\n",
       "      <td>Data Scientist - KPO</td>\n",
       "      <td>Bangalore/Bengaluru</td>\n",
       "      <td>Job description Education requirement : PhD in...</td>\n",
       "      <td>Antrors HR Solutions</td>\n",
       "    </tr>\n",
       "    <tr>\n",
       "      <th>6</th>\n",
       "      <td>Data Scientist - Machine Learning</td>\n",
       "      <td>Bangalore/Bengaluru</td>\n",
       "      <td>Job description Roles and Responsibilities   -...</td>\n",
       "      <td>AugmatrixGo</td>\n",
       "    </tr>\n",
       "    <tr>\n",
       "      <th>7</th>\n",
       "      <td>Data Scientist - Machine Learning/Python</td>\n",
       "      <td>Bangalore/Bengaluru</td>\n",
       "      <td>Job description Strong in Experience in Data S...</td>\n",
       "      <td>Change leaders</td>\n",
       "    </tr>\n",
       "    <tr>\n",
       "      <th>8</th>\n",
       "      <td>Data Scientist</td>\n",
       "      <td>Bangalore/Bengaluru</td>\n",
       "      <td>Job description Roles and Responsibilities Job...</td>\n",
       "      <td>Narayana Health</td>\n",
       "    </tr>\n",
       "    <tr>\n",
       "      <th>9</th>\n",
       "      <td>Data Scientist</td>\n",
       "      <td>Bangalore/Bengaluru</td>\n",
       "      <td>Job description Data Scientist @ Mobiotics  Ro...</td>\n",
       "      <td>Narayana Health</td>\n",
       "    </tr>\n",
       "  </tbody>\n",
       "</table>\n",
       "</div>"
      ],
      "text/plain": [
       "                                        Job             Location  \\\n",
       "0              Data Scientist - Python/ SQL  Bangalore/Bengaluru   \n",
       "1               Data Scientist - Python/sql  Bangalore/Bengaluru   \n",
       "2                 Data Scientist - Python/r  Bangalore/Bengaluru   \n",
       "3         Data Scientist - Machine Learning  Bangalore/Bengaluru   \n",
       "4                            Data Scientist  Bangalore/Bengaluru   \n",
       "5                      Data Scientist - KPO  Bangalore/Bengaluru   \n",
       "6         Data Scientist - Machine Learning  Bangalore/Bengaluru   \n",
       "7  Data Scientist - Machine Learning/Python  Bangalore/Bengaluru   \n",
       "8                            Data Scientist  Bangalore/Bengaluru   \n",
       "9                            Data Scientist  Bangalore/Bengaluru   \n",
       "\n",
       "                                                  JD  \\\n",
       "0  Job description Roles and responsibilities  Jo...   \n",
       "1  Job description Roles and responsibilities  Jo...   \n",
       "2  Job description What You'll Do :  - Leverage d...   \n",
       "3  Job description Responsibilities:  - Work with...   \n",
       "4  Job description Roles and Responsibilities - I...   \n",
       "5  Job description Education requirement : PhD in...   \n",
       "6  Job description Roles and Responsibilities   -...   \n",
       "7  Job description Strong in Experience in Data S...   \n",
       "8  Job description Roles and Responsibilities Job...   \n",
       "9  Job description Data Scientist @ Mobiotics  Ro...   \n",
       "\n",
       "                                      company  \n",
       "0                                    Catalyst  \n",
       "1                                    Catalyst  \n",
       "2                                    Catalyst  \n",
       "3                                    Catalyst  \n",
       "4  Vanguard Human Resource Consultant Pvt Ltd  \n",
       "5                        Antrors HR Solutions  \n",
       "6                                 AugmatrixGo  \n",
       "7                              Change leaders  \n",
       "8                             Narayana Health  \n",
       "9                             Narayana Health  "
      ]
     },
     "execution_count": 123,
     "metadata": {},
     "output_type": "execute_result"
    }
   ],
   "source": [
    "jb"
   ]
  },
  {
   "cell_type": "code",
   "execution_count": null,
   "metadata": {},
   "outputs": [],
   "source": []
  }
 ],
 "metadata": {
  "kernelspec": {
   "display_name": "Python 3",
   "language": "python",
   "name": "python3"
  },
  "language_info": {
   "codemirror_mode": {
    "name": "ipython",
    "version": 3
   },
   "file_extension": ".py",
   "mimetype": "text/x-python",
   "name": "python",
   "nbconvert_exporter": "python",
   "pygments_lexer": "ipython3",
   "version": "3.8.5"
  }
 },
 "nbformat": 4,
 "nbformat_minor": 4
}
